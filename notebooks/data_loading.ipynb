{
 "cells": [
  {
   "cell_type": "code",
   "execution_count": 134,
   "metadata": {},
   "outputs": [],
   "source": [
    "import requests\n",
    "import zipfile \n",
    "import io\n",
    "import os\n",
    "import gzip\n",
    "import urllib.request\n",
    "\n",
    "import pandas as pd\n",
    "from tqdm.notebook import tqdm\n",
    "tqdm.pandas()"
   ]
  },
  {
   "cell_type": "markdown",
   "metadata": {},
   "source": [
    "# Download Datasets"
   ]
  },
  {
   "cell_type": "code",
   "execution_count": 32,
   "metadata": {},
   "outputs": [],
   "source": [
    "movielens1m_zip_file_url = \"https://files.grouplens.org/datasets/movielens/ml-1m.zip\"\n",
    "movielens25m_zip_file_url = \"https://files.grouplens.org/datasets/movielens/ml-25m.zip\"\n",
    "steam_gzip_file_url = \"http://cseweb.ucsd.edu/~wckang/steam_reviews.json.gz\"\n",
    "videogames_2018_file_url = \"http://deepyeti.ucsd.edu/jianmo/amazon/categoryFilesSmall/Video_Games.csv\"\n",
    "beauty_2018_file_url = \"http://deepyeti.ucsd.edu/jianmo/amazon/categoryFilesSmall/All_Beauty.csv\"\n",
    "videogames_2014_file_url = \"http://snap.stanford.edu/data/amazon/productGraph/categoryFiles/ratings_Video_Games.csv\"\n",
    "beauty_2014_file_url = \"http://snap.stanford.edu/data/amazon/productGraph/categoryFiles/ratings_Beauty.csv\""
   ]
  },
  {
   "cell_type": "code",
   "execution_count": 33,
   "metadata": {},
   "outputs": [],
   "source": [
    "save_to_path = \"../raw_data\"\n",
    "os.makedirs(save_to_path, exist_ok=True) "
   ]
  },
  {
   "cell_type": "code",
   "execution_count": 34,
   "metadata": {},
   "outputs": [],
   "source": [
    "def save_csv(file_url, save_to_path=\"./data/\", name='dataset'):\n",
    "    try:\n",
    "        df = pd.read_csv(file_url)\n",
    "        write_path = os.path.join(save_to_path, name+\".csv\")\n",
    "        df.to_csv(write_path)\n",
    "        return write_path\n",
    "    except Exception as e:\n",
    "        print(e)"
   ]
  },
  {
   "cell_type": "code",
   "execution_count": 35,
   "metadata": {},
   "outputs": [],
   "source": [
    "def save_zip(zip_file_url, save_to_path=\"./data/\", name='dataset'):\n",
    "    try:\n",
    "        r = requests.get(zip_file_url)\n",
    "        z = zipfile.ZipFile(io.BytesIO(r.content))\n",
    "        write_path = os.path.join(save_to_path)\n",
    "        z.extractall(write_path)\n",
    "        return write_path\n",
    "    except Exception as e:\n",
    "        print(e)"
   ]
  },
  {
   "cell_type": "code",
   "execution_count": 38,
   "metadata": {},
   "outputs": [],
   "source": [
    "def save_gz(gz_file_url, save_to_path=\"./data/\", name='dataset'):\n",
    "    \"\"\"\n",
    "    Adapted from https://stackoverflow.com/a/61195974/9872987\n",
    "    \"\"\"\n",
    "    # Download archive\n",
    "    try:\n",
    "        # Read the file inside the .gz archive located at url\n",
    "        with urllib.request.urlopen(gz_file_url) as response:\n",
    "            with gzip.GzipFile(fileobj=response) as uncompressed:\n",
    "                file_content = uncompressed.read()\n",
    "        # write to file in binary mode 'wb'\n",
    "        write_path = os.path.join(save_to_path, name + \".txt\")\n",
    "        with open(write_path, 'wb') as f:\n",
    "            f.write(file_content)\n",
    "            return write_path\n",
    "\n",
    "    except Exception as e:\n",
    "        print(e)\n",
    "        return 1"
   ]
  },
  {
   "cell_type": "code",
   "execution_count": 12,
   "metadata": {},
   "outputs": [],
   "source": [
    "video_games_2018_path = save_csv(videogames_2018_file_url, save_to_path, 'video_games_2018_raw')"
   ]
  },
  {
   "cell_type": "code",
   "execution_count": 17,
   "metadata": {},
   "outputs": [],
   "source": [
    "video_games_2014_path = save_csv(videogames_2014_file_url, save_to_path, 'video_games_2014_raw')"
   ]
  },
  {
   "cell_type": "code",
   "execution_count": 18,
   "metadata": {},
   "outputs": [],
   "source": [
    "beauty_2014_path = save_csv(beauty_2014_file_url, save_to_path, 'beauty_2014_raw')"
   ]
  },
  {
   "cell_type": "code",
   "execution_count": 19,
   "metadata": {},
   "outputs": [],
   "source": [
    "beauty_2018_path = save_csv(beauty_2018_file_url, save_to_path, 'beauty_2018_raw')"
   ]
  },
  {
   "cell_type": "code",
   "execution_count": 24,
   "metadata": {},
   "outputs": [],
   "source": [
    "ml1m_path = save_zip(movielens1m_zip_file_url, save_to_path)"
   ]
  },
  {
   "cell_type": "code",
   "execution_count": 26,
   "metadata": {},
   "outputs": [],
   "source": [
    "ml25m_path = save_zip(movielens25m_zip_file_url, save_to_path)"
   ]
  },
  {
   "cell_type": "code",
   "execution_count": 40,
   "metadata": {},
   "outputs": [],
   "source": [
    "steam_path = save_gz(steam_gzip_file_url, save_to_path, 'steam_raw')"
   ]
  },
  {
   "cell_type": "markdown",
   "metadata": {},
   "source": [
    "# Pull in raw data"
   ]
  },
  {
   "cell_type": "markdown",
   "metadata": {},
   "source": [
    "## Read ML-1M"
   ]
  },
  {
   "cell_type": "code",
   "execution_count": 68,
   "metadata": {},
   "outputs": [],
   "source": [
    "ml1m_df = pd.read_csv(\n",
    "    os.path.join(ml1m_path, \"ml-1m/ratings.dat\"),\n",
    "    names=[\"user\", \"item\", \"rating\", \"timestamp\"],\n",
    "    sep=\"::\", \n",
    "    engine='python'\n",
    ")"
   ]
  },
  {
   "cell_type": "markdown",
   "metadata": {},
   "source": [
    "## Read Video 2018"
   ]
  },
  {
   "cell_type": "code",
   "execution_count": 50,
   "metadata": {},
   "outputs": [],
   "source": [
    "video_2018_df = pd.read_csv(\n",
    "    videogames_2018_file_url, \n",
    "    names=[\"user\", \"item\", \"rating\", \"timestamp\"]\n",
    ")"
   ]
  },
  {
   "cell_type": "markdown",
   "metadata": {},
   "source": [
    "## Read Video 2014"
   ]
  },
  {
   "cell_type": "code",
   "execution_count": 51,
   "metadata": {},
   "outputs": [],
   "source": [
    "video_2014_df = pd.read_csv(\n",
    "    videogames_2014_file_url, \n",
    "    names=[\"user\", \"item\", \"rating\", \"timestamp\"]\n",
    ")"
   ]
  },
  {
   "cell_type": "markdown",
   "metadata": {},
   "source": [
    "## Read Beauty 2014"
   ]
  },
  {
   "cell_type": "code",
   "execution_count": 53,
   "metadata": {},
   "outputs": [],
   "source": [
    "beauty_2014_df = pd.read_csv(\n",
    "    beauty_2014_file_url, \n",
    "    names=[\"user\", \"item\", \"rating\", \"timestamp\"]\n",
    ")"
   ]
  },
  {
   "cell_type": "markdown",
   "metadata": {},
   "source": [
    "## Read Beauty 2018"
   ]
  },
  {
   "cell_type": "code",
   "execution_count": 54,
   "metadata": {},
   "outputs": [],
   "source": [
    "beauty_2018_df = pd.read_csv(\n",
    "    beauty_2018_file_url, \n",
    "    names=[\"user\", \"item\", \"rating\", \"timestamp\"]\n",
    ")"
   ]
  },
  {
   "cell_type": "markdown",
   "metadata": {},
   "source": [
    "## Read Steam"
   ]
  },
  {
   "cell_type": "code",
   "execution_count": 89,
   "metadata": {},
   "outputs": [],
   "source": [
    "import numpy as np"
   ]
  },
  {
   "cell_type": "code",
   "execution_count": 91,
   "metadata": {},
   "outputs": [],
   "source": [
    "test = pd.DataFrame([[np.NaN, 1], [1, 1]])"
   ]
  },
  {
   "cell_type": "code",
   "execution_count": 94,
   "metadata": {},
   "outputs": [
    {
     "data": {
      "text/plain": [
       "0    fill\n",
       "1       1\n",
       "Name: 0, dtype: object"
      ]
     },
     "execution_count": 94,
     "metadata": {},
     "output_type": "execute_result"
    }
   ],
   "source": [
    "test[0].fillna(\"fill\")"
   ]
  },
  {
   "cell_type": "code",
   "execution_count": 97,
   "metadata": {},
   "outputs": [],
   "source": [
    "def load_steam(path_to_steam):\n",
    "    \"\"\"\n",
    "    Load steam dataset and standardize format\n",
    "    \n",
    "    This will take some time!\n",
    "    \"\"\"\n",
    "    data = []\n",
    "    with open(path_to_steam) as f:\n",
    "        for i, line in tqdm(enumerate(f)):\n",
    "            line = eval(line)\n",
    "            data.append(line)\n",
    "    steam_df = pd.DataFrame(data)    \n",
    "    return steam_df"
   ]
  },
  {
   "cell_type": "code",
   "execution_count": 98,
   "metadata": {},
   "outputs": [
    {
     "data": {
      "application/vnd.jupyter.widget-view+json": {
       "model_id": "c3929121021849d2a5b2ff73843dae7c",
       "version_major": 2,
       "version_minor": 0
      },
      "text/plain": [
       "|          | 0/? [00:00<?, ?it/s]"
      ]
     },
     "metadata": {},
     "output_type": "display_data"
    }
   ],
   "source": [
    "steam_df = load_steam(steam_path)"
   ]
  },
  {
   "cell_type": "code",
   "execution_count": 127,
   "metadata": {},
   "outputs": [],
   "source": [
    "uids_counts = steam_df[[\"username\", \"user_id\"]].groupby(\"username\").count()"
   ]
  },
  {
   "cell_type": "code",
   "execution_count": 160,
   "metadata": {},
   "outputs": [
    {
     "data": {
      "text/plain": [
       "1259028"
      ]
     },
     "execution_count": 160,
     "metadata": {},
     "output_type": "execute_result"
    }
   ],
   "source": [
    "sum((uids_counts == 0).reset_index().user_id)"
   ]
  },
  {
   "cell_type": "code",
   "execution_count": null,
   "metadata": {},
   "outputs": [],
   "source": []
  },
  {
   "cell_type": "code",
   "execution_count": 124,
   "metadata": {},
   "outputs": [
    {
     "data": {
      "text/plain": [
       "0.5924297603421708"
      ]
     },
     "execution_count": 124,
     "metadata": {},
     "output_type": "execute_result"
    }
   ],
   "source": [
    "sum(steam_df.user_id.isna()) / len(steam_df)"
   ]
  },
  {
   "cell_type": "code",
   "execution_count": 110,
   "metadata": {},
   "outputs": [
    {
     "data": {
      "text/plain": [
       "2567538"
      ]
     },
     "execution_count": 110,
     "metadata": {},
     "output_type": "execute_result"
    }
   ],
   "source": [
    "steam_df.username.nunique()"
   ]
  },
  {
   "cell_type": "code",
   "execution_count": 111,
   "metadata": {},
   "outputs": [
    {
     "data": {
      "text/plain": [
       "1485611"
      ]
     },
     "execution_count": 111,
     "metadata": {},
     "output_type": "execute_result"
    }
   ],
   "source": [
    "steam_df.user_id.nunique()"
   ]
  },
  {
   "cell_type": "code",
   "execution_count": 115,
   "metadata": {},
   "outputs": [
    {
     "data": {
      "text/html": [
       "<div>\n",
       "<style scoped>\n",
       "    .dataframe tbody tr th:only-of-type {\n",
       "        vertical-align: middle;\n",
       "    }\n",
       "\n",
       "    .dataframe tbody tr th {\n",
       "        vertical-align: top;\n",
       "    }\n",
       "\n",
       "    .dataframe thead th {\n",
       "        text-align: right;\n",
       "    }\n",
       "</style>\n",
       "<table border=\"1\" class=\"dataframe\">\n",
       "  <thead>\n",
       "    <tr style=\"text-align: right;\">\n",
       "      <th></th>\n",
       "      <th>username</th>\n",
       "      <th>hours</th>\n",
       "      <th>products</th>\n",
       "      <th>product_id</th>\n",
       "      <th>page_order</th>\n",
       "      <th>date</th>\n",
       "      <th>text</th>\n",
       "      <th>early_access</th>\n",
       "      <th>page</th>\n",
       "      <th>found_funny</th>\n",
       "      <th>compensation</th>\n",
       "      <th>user_id</th>\n",
       "    </tr>\n",
       "  </thead>\n",
       "  <tbody>\n",
       "    <tr>\n",
       "      <th>49267</th>\n",
       "      <td>123</td>\n",
       "      <td>4.6</td>\n",
       "      <td>243.0</td>\n",
       "      <td>35140</td>\n",
       "      <td>3</td>\n",
       "      <td>2016-06-30</td>\n",
       "      <td>Great game, with a good story. Lots to explore...</td>\n",
       "      <td>False</td>\n",
       "      <td>242</td>\n",
       "      <td>NaN</td>\n",
       "      <td>NaN</td>\n",
       "      <td>76561198120382965</td>\n",
       "    </tr>\n",
       "    <tr>\n",
       "      <th>2852849</th>\n",
       "      <td>123</td>\n",
       "      <td>2.8</td>\n",
       "      <td>243.0</td>\n",
       "      <td>51010</td>\n",
       "      <td>6</td>\n",
       "      <td>2016-06-30</td>\n",
       "      <td>Love the game, I used to play the free version...</td>\n",
       "      <td>False</td>\n",
       "      <td>2</td>\n",
       "      <td>NaN</td>\n",
       "      <td>NaN</td>\n",
       "      <td>76561198120382965</td>\n",
       "    </tr>\n",
       "    <tr>\n",
       "      <th>2881877</th>\n",
       "      <td>123</td>\n",
       "      <td>1.3</td>\n",
       "      <td>243.0</td>\n",
       "      <td>360870</td>\n",
       "      <td>8</td>\n",
       "      <td>2015-12-03</td>\n",
       "      <td>10/10 great way to pass the time when your boa...</td>\n",
       "      <td>False</td>\n",
       "      <td>28</td>\n",
       "      <td>1.0</td>\n",
       "      <td>NaN</td>\n",
       "      <td>76561198120382965</td>\n",
       "    </tr>\n",
       "    <tr>\n",
       "      <th>3196136</th>\n",
       "      <td>123</td>\n",
       "      <td>20.7</td>\n",
       "      <td>243.0</td>\n",
       "      <td>270370</td>\n",
       "      <td>2</td>\n",
       "      <td>2016-06-30</td>\n",
       "      <td>Really fun to play with friends, combine is de...</td>\n",
       "      <td>False</td>\n",
       "      <td>46</td>\n",
       "      <td>NaN</td>\n",
       "      <td>NaN</td>\n",
       "      <td>76561198120382965</td>\n",
       "    </tr>\n",
       "    <tr>\n",
       "      <th>6937125</th>\n",
       "      <td>123</td>\n",
       "      <td>2.1</td>\n",
       "      <td>243.0</td>\n",
       "      <td>225540</td>\n",
       "      <td>9</td>\n",
       "      <td>2017-07-02</td>\n",
       "      <td>The gliding challenges are pretty dank.</td>\n",
       "      <td>False</td>\n",
       "      <td>332</td>\n",
       "      <td>NaN</td>\n",
       "      <td>NaN</td>\n",
       "      <td>76561198120382965</td>\n",
       "    </tr>\n",
       "  </tbody>\n",
       "</table>\n",
       "</div>"
      ],
      "text/plain": [
       "        username  hours  products product_id  page_order        date  \\\n",
       "49267        123    4.6     243.0      35140           3  2016-06-30   \n",
       "2852849      123    2.8     243.0      51010           6  2016-06-30   \n",
       "2881877      123    1.3     243.0     360870           8  2015-12-03   \n",
       "3196136      123   20.7     243.0     270370           2  2016-06-30   \n",
       "6937125      123    2.1     243.0     225540           9  2017-07-02   \n",
       "\n",
       "                                                      text  early_access  \\\n",
       "49267    Great game, with a good story. Lots to explore...         False   \n",
       "2852849  Love the game, I used to play the free version...         False   \n",
       "2881877  10/10 great way to pass the time when your boa...         False   \n",
       "3196136  Really fun to play with friends, combine is de...         False   \n",
       "6937125            The gliding challenges are pretty dank.         False   \n",
       "\n",
       "         page  found_funny compensation            user_id  \n",
       "49267     242          NaN          NaN  76561198120382965  \n",
       "2852849     2          NaN          NaN  76561198120382965  \n",
       "2881877    28          1.0          NaN  76561198120382965  \n",
       "3196136    46          NaN          NaN  76561198120382965  \n",
       "6937125   332          NaN          NaN  76561198120382965  "
      ]
     },
     "execution_count": 115,
     "metadata": {},
     "output_type": "execute_result"
    }
   ],
   "source": [
    "steam_df[steam_df.user_id==\"76561198120382965\"]"
   ]
  },
  {
   "cell_type": "code",
   "execution_count": 109,
   "metadata": {},
   "outputs": [
    {
     "data": {
      "text/html": [
       "<div>\n",
       "<style scoped>\n",
       "    .dataframe tbody tr th:only-of-type {\n",
       "        vertical-align: middle;\n",
       "    }\n",
       "\n",
       "    .dataframe tbody tr th {\n",
       "        vertical-align: top;\n",
       "    }\n",
       "\n",
       "    .dataframe thead th {\n",
       "        text-align: right;\n",
       "    }\n",
       "</style>\n",
       "<table border=\"1\" class=\"dataframe\">\n",
       "  <thead>\n",
       "    <tr style=\"text-align: right;\">\n",
       "      <th></th>\n",
       "      <th>username</th>\n",
       "      <th>hours</th>\n",
       "      <th>products</th>\n",
       "      <th>product_id</th>\n",
       "      <th>page_order</th>\n",
       "      <th>date</th>\n",
       "      <th>text</th>\n",
       "      <th>early_access</th>\n",
       "      <th>page</th>\n",
       "      <th>found_funny</th>\n",
       "      <th>compensation</th>\n",
       "      <th>user_id</th>\n",
       "    </tr>\n",
       "  </thead>\n",
       "  <tbody>\n",
       "    <tr>\n",
       "      <th>29045</th>\n",
       "      <td>123</td>\n",
       "      <td>97.9</td>\n",
       "      <td>103.0</td>\n",
       "      <td>1610</td>\n",
       "      <td>1</td>\n",
       "      <td>2014-02-02</td>\n",
       "      <td>One of the best space games ive ever played</td>\n",
       "      <td>False</td>\n",
       "      <td>9</td>\n",
       "      <td>NaN</td>\n",
       "      <td>NaN</td>\n",
       "      <td>76561198021444245</td>\n",
       "    </tr>\n",
       "    <tr>\n",
       "      <th>29510</th>\n",
       "      <td>123</td>\n",
       "      <td>484.1</td>\n",
       "      <td>69.0</td>\n",
       "      <td>271590</td>\n",
       "      <td>1</td>\n",
       "      <td>2017-12-30</td>\n",
       "      <td>Don't buy. They don't bother fixing bugs, only...</td>\n",
       "      <td>False</td>\n",
       "      <td>107</td>\n",
       "      <td>NaN</td>\n",
       "      <td>NaN</td>\n",
       "      <td>76561198072738316</td>\n",
       "    </tr>\n",
       "    <tr>\n",
       "      <th>47279</th>\n",
       "      <td>123</td>\n",
       "      <td>7.9</td>\n",
       "      <td>19.0</td>\n",
       "      <td>427730</td>\n",
       "      <td>8</td>\n",
       "      <td>2016-12-29</td>\n",
       "      <td>the game is boring without freinds but with th...</td>\n",
       "      <td>False</td>\n",
       "      <td>205</td>\n",
       "      <td>NaN</td>\n",
       "      <td>NaN</td>\n",
       "      <td>76561198141516113</td>\n",
       "    </tr>\n",
       "    <tr>\n",
       "      <th>49267</th>\n",
       "      <td>123</td>\n",
       "      <td>4.6</td>\n",
       "      <td>243.0</td>\n",
       "      <td>35140</td>\n",
       "      <td>3</td>\n",
       "      <td>2016-06-30</td>\n",
       "      <td>Great game, with a good story. Lots to explore...</td>\n",
       "      <td>False</td>\n",
       "      <td>242</td>\n",
       "      <td>NaN</td>\n",
       "      <td>NaN</td>\n",
       "      <td>76561198120382965</td>\n",
       "    </tr>\n",
       "    <tr>\n",
       "      <th>51651</th>\n",
       "      <td>123</td>\n",
       "      <td>68.5</td>\n",
       "      <td>145.0</td>\n",
       "      <td>350280</td>\n",
       "      <td>5</td>\n",
       "      <td>2017-08-14</td>\n",
       "      <td>I enjoy games again.</td>\n",
       "      <td>False</td>\n",
       "      <td>239</td>\n",
       "      <td>NaN</td>\n",
       "      <td>NaN</td>\n",
       "      <td>76561198194763874</td>\n",
       "    </tr>\n",
       "    <tr>\n",
       "      <th>...</th>\n",
       "      <td>...</td>\n",
       "      <td>...</td>\n",
       "      <td>...</td>\n",
       "      <td>...</td>\n",
       "      <td>...</td>\n",
       "      <td>...</td>\n",
       "      <td>...</td>\n",
       "      <td>...</td>\n",
       "      <td>...</td>\n",
       "      <td>...</td>\n",
       "      <td>...</td>\n",
       "      <td>...</td>\n",
       "    </tr>\n",
       "    <tr>\n",
       "      <th>7775065</th>\n",
       "      <td>123</td>\n",
       "      <td>75.1</td>\n",
       "      <td>135.0</td>\n",
       "      <td>252490</td>\n",
       "      <td>6</td>\n",
       "      <td>2014-04-16</td>\n",
       "      <td>This game is awsome and still in beta there ar...</td>\n",
       "      <td>True</td>\n",
       "      <td>8421</td>\n",
       "      <td>1.0</td>\n",
       "      <td>NaN</td>\n",
       "      <td>76561198084641085</td>\n",
       "    </tr>\n",
       "    <tr>\n",
       "      <th>7776153</th>\n",
       "      <td>123</td>\n",
       "      <td>606.4</td>\n",
       "      <td>99.0</td>\n",
       "      <td>252490</td>\n",
       "      <td>4</td>\n",
       "      <td>2014-04-03</td>\n",
       "      <td>much fun. worth much money. much fun with frie...</td>\n",
       "      <td>True</td>\n",
       "      <td>8530</td>\n",
       "      <td>NaN</td>\n",
       "      <td>NaN</td>\n",
       "      <td>NaN</td>\n",
       "    </tr>\n",
       "    <tr>\n",
       "      <th>7778239</th>\n",
       "      <td>123</td>\n",
       "      <td>1413.7</td>\n",
       "      <td>22.0</td>\n",
       "      <td>252490</td>\n",
       "      <td>0</td>\n",
       "      <td>2014-03-10</td>\n",
       "      <td>good game</td>\n",
       "      <td>True</td>\n",
       "      <td>8739</td>\n",
       "      <td>NaN</td>\n",
       "      <td>NaN</td>\n",
       "      <td>76561198125774672</td>\n",
       "    </tr>\n",
       "    <tr>\n",
       "      <th>7779101</th>\n",
       "      <td>123</td>\n",
       "      <td>77.2</td>\n",
       "      <td>23.0</td>\n",
       "      <td>252490</td>\n",
       "      <td>2</td>\n",
       "      <td>2014-03-03</td>\n",
       "      <td>I strongly reccomend this game I have had it f...</td>\n",
       "      <td>True</td>\n",
       "      <td>8825</td>\n",
       "      <td>NaN</td>\n",
       "      <td>NaN</td>\n",
       "      <td>NaN</td>\n",
       "    </tr>\n",
       "    <tr>\n",
       "      <th>7790976</th>\n",
       "      <td>123</td>\n",
       "      <td>280.9</td>\n",
       "      <td>102.0</td>\n",
       "      <td>252490</td>\n",
       "      <td>7</td>\n",
       "      <td>2013-12-27</td>\n",
       "      <td>Mean az!</td>\n",
       "      <td>True</td>\n",
       "      <td>10012</td>\n",
       "      <td>NaN</td>\n",
       "      <td>NaN</td>\n",
       "      <td>NaN</td>\n",
       "    </tr>\n",
       "  </tbody>\n",
       "</table>\n",
       "<p>2045 rows × 12 columns</p>\n",
       "</div>"
      ],
      "text/plain": [
       "        username   hours  products product_id  page_order        date  \\\n",
       "29045        123    97.9     103.0       1610           1  2014-02-02   \n",
       "29510        123   484.1      69.0     271590           1  2017-12-30   \n",
       "47279        123     7.9      19.0     427730           8  2016-12-29   \n",
       "49267        123     4.6     243.0      35140           3  2016-06-30   \n",
       "51651        123    68.5     145.0     350280           5  2017-08-14   \n",
       "...          ...     ...       ...        ...         ...         ...   \n",
       "7775065      123    75.1     135.0     252490           6  2014-04-16   \n",
       "7776153      123   606.4      99.0     252490           4  2014-04-03   \n",
       "7778239      123  1413.7      22.0     252490           0  2014-03-10   \n",
       "7779101      123    77.2      23.0     252490           2  2014-03-03   \n",
       "7790976      123   280.9     102.0     252490           7  2013-12-27   \n",
       "\n",
       "                                                      text  early_access  \\\n",
       "29045          One of the best space games ive ever played         False   \n",
       "29510    Don't buy. They don't bother fixing bugs, only...         False   \n",
       "47279    the game is boring without freinds but with th...         False   \n",
       "49267    Great game, with a good story. Lots to explore...         False   \n",
       "51651                                 I enjoy games again.         False   \n",
       "...                                                    ...           ...   \n",
       "7775065  This game is awsome and still in beta there ar...          True   \n",
       "7776153  much fun. worth much money. much fun with frie...          True   \n",
       "7778239                                          good game          True   \n",
       "7779101  I strongly reccomend this game I have had it f...          True   \n",
       "7790976                                           Mean az!          True   \n",
       "\n",
       "          page  found_funny compensation            user_id  \n",
       "29045        9          NaN          NaN  76561198021444245  \n",
       "29510      107          NaN          NaN  76561198072738316  \n",
       "47279      205          NaN          NaN  76561198141516113  \n",
       "49267      242          NaN          NaN  76561198120382965  \n",
       "51651      239          NaN          NaN  76561198194763874  \n",
       "...        ...          ...          ...                ...  \n",
       "7775065   8421          1.0          NaN  76561198084641085  \n",
       "7776153   8530          NaN          NaN                NaN  \n",
       "7778239   8739          NaN          NaN  76561198125774672  \n",
       "7779101   8825          NaN          NaN                NaN  \n",
       "7790976  10012          NaN          NaN                NaN  \n",
       "\n",
       "[2045 rows x 12 columns]"
      ]
     },
     "execution_count": 109,
     "metadata": {},
     "output_type": "execute_result"
    }
   ],
   "source": [
    "steam_df[steam_df.username == \"123\"]"
   ]
  },
  {
   "cell_type": "code",
   "execution_count": 108,
   "metadata": {},
   "outputs": [
    {
     "data": {
      "text/plain": [
       "123                 2045\n",
       "Alex                1776\n",
       "Nick                1465\n",
       "Chris               1458\n",
       "Tom                 1365\n",
       "                    ... \n",
       "pixlewizard            1\n",
       "weekly5112             1\n",
       "ShinichiTheSlayr       1\n",
       "CrossEyedSam           1\n",
       "✪euphoria -iwnl-       1\n",
       "Name: username, Length: 2567538, dtype: int64"
      ]
     },
     "execution_count": 108,
     "metadata": {},
     "output_type": "execute_result"
    }
   ],
   "source": [
    "steam_df.username.value_counts()"
   ]
  },
  {
   "cell_type": "code",
   "execution_count": 116,
   "metadata": {},
   "outputs": [],
   "source": [
    "example_steam = steam_df.copy()\n",
    "example_steam.dropna(subset=['user_id'], inplace=True)"
   ]
  },
  {
   "cell_type": "code",
   "execution_count": 118,
   "metadata": {},
   "outputs": [
    {
     "data": {
      "text/plain": [
       "1485611"
      ]
     },
     "execution_count": 118,
     "metadata": {},
     "output_type": "execute_result"
    }
   ],
   "source": [
    "example_steam.user_id.nunique()"
   ]
  },
  {
   "cell_type": "code",
   "execution_count": 120,
   "metadata": {},
   "outputs": [],
   "source": [
    "example_steam = example_steam[['user_id', 'product_id', 'date']].rename(\n",
    "        columns={\"user_id\":\"user\", \"product_id\": \"item\", \"date\":\"timestamp\"})"
   ]
  },
  {
   "cell_type": "code",
   "execution_count": null,
   "metadata": {},
   "outputs": [],
   "source": []
  },
  {
   "cell_type": "code",
   "execution_count": 99,
   "metadata": {},
   "outputs": [
    {
     "ename": "SyntaxError",
     "evalue": "invalid syntax (4170182245.py, line 1)",
     "output_type": "error",
     "traceback": [
      "\u001b[0;36m  File \u001b[0;32m\"/var/folders/2j/61r69x7x627_m8lrg67327dr0000gn/T/ipykernel_52084/4170182245.py\"\u001b[0;36m, line \u001b[0;32m1\u001b[0m\n\u001b[0;31m    def preprocess_steam(frame)\u001b[0m\n\u001b[0m                               ^\u001b[0m\n\u001b[0;31mSyntaxError\u001b[0m\u001b[0;31m:\u001b[0m invalid syntax\n"
     ]
    }
   ],
   "source": [
    "def preprocess_steam(frame)\n",
    "    # Fill NAN values of user_id with empty string\n",
    "    frame.user_id.fillna(\"\", inplace=True)\n",
    "    \n",
    "    # Create unique user identifier\n",
    "    frame['unique_username'] = frame[[\"username\", \"user_id\"]].apply(lambda x: \"_\".join(x), axis=1)\n",
    "    \n",
    "    # Standardize column names and keep just the columns we care about\n",
    "    frame = frame[['unique_username', 'product_id', 'date']].rename(\n",
    "        columns={\"unique_username\":\"user\", \"product_id\": \"item\", \"date\":\"timestamp\"}).copy()\n",
    "    return frame"
   ]
  },
  {
   "cell_type": "code",
   "execution_count": 82,
   "metadata": {},
   "outputs": [
    {
     "data": {
      "text/plain": [
       "Index(['user', 'item', 'timestamp'], dtype='object')"
      ]
     },
     "execution_count": 82,
     "metadata": {},
     "output_type": "execute_result"
    }
   ],
   "source": [
    "steam_df"
   ]
  },
  {
   "cell_type": "markdown",
   "metadata": {},
   "source": [
    "# Processing"
   ]
  },
  {
   "cell_type": "code",
   "execution_count": 60,
   "metadata": {},
   "outputs": [],
   "source": [
    "def filter_by_interactions(frame, min_i=5, user_col='user', item_col='item'):\n",
    "    \n",
    "    keep_users = set(frame[frame[user_col].map(\n",
    "        frame[user_col].value_counts()) >= min_i][user_col].unique())\n",
    "    \n",
    "    keep_items = set(frame[frame[item_col].map(\n",
    "        frame[item_col].value_counts()) >= min_i][item_col].unique())\n",
    "    \n",
    "    frame = frame[frame[user_col].isin(keep_users) & frame[item_col].isin(keep_items)]\n",
    "    return frame"
   ]
  },
  {
   "cell_type": "code",
   "execution_count": 61,
   "metadata": {},
   "outputs": [],
   "source": [
    "def n_core_frame(frame, n=5, verbose=False):\n",
    "    i = 1\n",
    "    while frame.user.value_counts().min() <= 5 or frame.item.value_counts().min() <= 5:\n",
    "        i += 1\n",
    "        if verbose:\n",
    "            print(\"Iter: \", i)\n",
    "        frame = filter_by_interactions(frame)\n",
    "        if verbose:\n",
    "            print(\"\\n\")\n",
    "            print(\"users: \", frame.user.nunique())\n",
    "            print(\"items: \", frame.item.nunique())\n",
    "            print(\"min user:\", frame.user.value_counts().min())\n",
    "            print(\"min item:\", frame.item.value_counts().min())\n",
    "        if frame.user.value_counts().min() >= 5 and frame.item.value_counts().min() >= 5:\n",
    "            break            \n",
    "    return frame"
   ]
  },
  {
   "cell_type": "code",
   "execution_count": 62,
   "metadata": {},
   "outputs": [],
   "source": [
    "def dataset_stats(frame):\n",
    "    mean_items_per_user = frame.groupby(by='user').count().item.mean()\n",
    "    mean_user_per_items = frame.groupby(by='item').count().user.mean()\n",
    "    stats = {\n",
    "        \"num_interactions\": len(frame),\n",
    "        \"num_users\": frame.user.nunique(),\n",
    "        \"num_items\": frame.item.nunique(),\n",
    "        \"mean_items_per_user\": round(mean_items_per_user, 3),\n",
    "        \"mean_user_per_items\": round(mean_user_per_items, 3)\n",
    "    }\n",
    "    return stats"
   ]
  },
  {
   "cell_type": "code",
   "execution_count": 63,
   "metadata": {},
   "outputs": [],
   "source": [
    "dataframes = [ml1m_df, beauty_2014_df]"
   ]
  },
  {
   "cell_type": "code",
   "execution_count": 73,
   "metadata": {},
   "outputs": [],
   "source": [
    "def process_interactions(frame):\n",
    "    frame = frame.copy()\n",
    "    frame.drop_duplicates(subset=['user', 'item', 'timestamp'], inplace=True)\n",
    "    frame.sort_values(by=['user', 'timestamp'], inplace=True)\n",
    "    cored_frame = n_core_frame(frame, n=5)\n",
    "    stats = dataset_stats(cored_frame)\n",
    "    return cored_frame, stats"
   ]
  },
  {
   "cell_type": "code",
   "execution_count": 74,
   "metadata": {},
   "outputs": [],
   "source": [
    "cored_ml1m_frame, ml1m_cored_stats = process_interactions(ml1m_df)"
   ]
  },
  {
   "cell_type": "code",
   "execution_count": 75,
   "metadata": {},
   "outputs": [
    {
     "data": {
      "text/html": [
       "<div>\n",
       "<style scoped>\n",
       "    .dataframe tbody tr th:only-of-type {\n",
       "        vertical-align: middle;\n",
       "    }\n",
       "\n",
       "    .dataframe tbody tr th {\n",
       "        vertical-align: top;\n",
       "    }\n",
       "\n",
       "    .dataframe thead th {\n",
       "        text-align: right;\n",
       "    }\n",
       "</style>\n",
       "<table border=\"1\" class=\"dataframe\">\n",
       "  <thead>\n",
       "    <tr style=\"text-align: right;\">\n",
       "      <th></th>\n",
       "      <th>user</th>\n",
       "      <th>item</th>\n",
       "      <th>rating</th>\n",
       "      <th>timestamp</th>\n",
       "    </tr>\n",
       "  </thead>\n",
       "  <tbody>\n",
       "    <tr>\n",
       "      <th>31</th>\n",
       "      <td>1</td>\n",
       "      <td>3186</td>\n",
       "      <td>4</td>\n",
       "      <td>978300019</td>\n",
       "    </tr>\n",
       "    <tr>\n",
       "      <th>22</th>\n",
       "      <td>1</td>\n",
       "      <td>1270</td>\n",
       "      <td>5</td>\n",
       "      <td>978300055</td>\n",
       "    </tr>\n",
       "    <tr>\n",
       "      <th>27</th>\n",
       "      <td>1</td>\n",
       "      <td>1721</td>\n",
       "      <td>4</td>\n",
       "      <td>978300055</td>\n",
       "    </tr>\n",
       "    <tr>\n",
       "      <th>37</th>\n",
       "      <td>1</td>\n",
       "      <td>1022</td>\n",
       "      <td>5</td>\n",
       "      <td>978300055</td>\n",
       "    </tr>\n",
       "    <tr>\n",
       "      <th>24</th>\n",
       "      <td>1</td>\n",
       "      <td>2340</td>\n",
       "      <td>3</td>\n",
       "      <td>978300103</td>\n",
       "    </tr>\n",
       "    <tr>\n",
       "      <th>...</th>\n",
       "      <td>...</td>\n",
       "      <td>...</td>\n",
       "      <td>...</td>\n",
       "      <td>...</td>\n",
       "    </tr>\n",
       "    <tr>\n",
       "      <th>1000019</th>\n",
       "      <td>6040</td>\n",
       "      <td>2917</td>\n",
       "      <td>4</td>\n",
       "      <td>997454429</td>\n",
       "    </tr>\n",
       "    <tr>\n",
       "      <th>999988</th>\n",
       "      <td>6040</td>\n",
       "      <td>1921</td>\n",
       "      <td>4</td>\n",
       "      <td>997454464</td>\n",
       "    </tr>\n",
       "    <tr>\n",
       "      <th>1000172</th>\n",
       "      <td>6040</td>\n",
       "      <td>1784</td>\n",
       "      <td>3</td>\n",
       "      <td>997454464</td>\n",
       "    </tr>\n",
       "    <tr>\n",
       "      <th>1000167</th>\n",
       "      <td>6040</td>\n",
       "      <td>161</td>\n",
       "      <td>3</td>\n",
       "      <td>997454486</td>\n",
       "    </tr>\n",
       "    <tr>\n",
       "      <th>1000042</th>\n",
       "      <td>6040</td>\n",
       "      <td>1221</td>\n",
       "      <td>4</td>\n",
       "      <td>998315055</td>\n",
       "    </tr>\n",
       "  </tbody>\n",
       "</table>\n",
       "<p>999611 rows × 4 columns</p>\n",
       "</div>"
      ],
      "text/plain": [
       "         user  item  rating  timestamp\n",
       "31          1  3186       4  978300019\n",
       "22          1  1270       5  978300055\n",
       "27          1  1721       4  978300055\n",
       "37          1  1022       5  978300055\n",
       "24          1  2340       3  978300103\n",
       "...       ...   ...     ...        ...\n",
       "1000019  6040  2917       4  997454429\n",
       "999988   6040  1921       4  997454464\n",
       "1000172  6040  1784       3  997454464\n",
       "1000167  6040   161       3  997454486\n",
       "1000042  6040  1221       4  998315055\n",
       "\n",
       "[999611 rows x 4 columns]"
      ]
     },
     "execution_count": 75,
     "metadata": {},
     "output_type": "execute_result"
    }
   ],
   "source": [
    "cored_ml1m_frame"
   ]
  },
  {
   "cell_type": "code",
   "execution_count": 76,
   "metadata": {},
   "outputs": [],
   "source": [
    "cored_steam_frame, steam_cored_stats = process_interactions(steam_df)"
   ]
  },
  {
   "cell_type": "code",
   "execution_count": 125,
   "metadata": {},
   "outputs": [
    {
     "data": {
      "text/html": [
       "<div>\n",
       "<style scoped>\n",
       "    .dataframe tbody tr th:only-of-type {\n",
       "        vertical-align: middle;\n",
       "    }\n",
       "\n",
       "    .dataframe tbody tr th {\n",
       "        vertical-align: top;\n",
       "    }\n",
       "\n",
       "    .dataframe thead th {\n",
       "        text-align: right;\n",
       "    }\n",
       "</style>\n",
       "<table border=\"1\" class=\"dataframe\">\n",
       "  <thead>\n",
       "    <tr style=\"text-align: right;\">\n",
       "      <th></th>\n",
       "      <th>user</th>\n",
       "      <th>item</th>\n",
       "      <th>timestamp</th>\n",
       "    </tr>\n",
       "  </thead>\n",
       "  <tbody>\n",
       "    <tr>\n",
       "      <th>2697132</th>\n",
       "      <td>!</td>\n",
       "      <td>421670</td>\n",
       "      <td>2016-03-04</td>\n",
       "    </tr>\n",
       "    <tr>\n",
       "      <th>2371759</th>\n",
       "      <td>!</td>\n",
       "      <td>377160</td>\n",
       "      <td>2016-03-31</td>\n",
       "    </tr>\n",
       "    <tr>\n",
       "      <th>436692</th>\n",
       "      <td>!</td>\n",
       "      <td>227940</td>\n",
       "      <td>2016-07-21</td>\n",
       "    </tr>\n",
       "    <tr>\n",
       "      <th>499895</th>\n",
       "      <td>!</td>\n",
       "      <td>304240</td>\n",
       "      <td>2016-09-15</td>\n",
       "    </tr>\n",
       "    <tr>\n",
       "      <th>2211182</th>\n",
       "      <td>!</td>\n",
       "      <td>550650</td>\n",
       "      <td>2017-10-25</td>\n",
       "    </tr>\n",
       "    <tr>\n",
       "      <th>...</th>\n",
       "      <td>...</td>\n",
       "      <td>...</td>\n",
       "      <td>...</td>\n",
       "    </tr>\n",
       "    <tr>\n",
       "      <th>1469646</th>\n",
       "      <td>󰀕 Africa's Population 󰀕</td>\n",
       "      <td>242680</td>\n",
       "      <td>2015-03-23</td>\n",
       "    </tr>\n",
       "    <tr>\n",
       "      <th>2265710</th>\n",
       "      <td>󰀕 Africa's Population 󰀕</td>\n",
       "      <td>99900</td>\n",
       "      <td>2015-09-16</td>\n",
       "    </tr>\n",
       "    <tr>\n",
       "      <th>4269027</th>\n",
       "      <td>󰀕 Africa's Population 󰀕</td>\n",
       "      <td>268910</td>\n",
       "      <td>2017-10-11</td>\n",
       "    </tr>\n",
       "    <tr>\n",
       "      <th>5451032</th>\n",
       "      <td>󰀕 Africa's Population 󰀕</td>\n",
       "      <td>252610</td>\n",
       "      <td>2017-11-22</td>\n",
       "    </tr>\n",
       "    <tr>\n",
       "      <th>2633090</th>\n",
       "      <td>󰀕 Africa's Population 󰀕</td>\n",
       "      <td>337340</td>\n",
       "      <td>2017-12-16</td>\n",
       "    </tr>\n",
       "  </tbody>\n",
       "</table>\n",
       "<p>3555275 rows × 3 columns</p>\n",
       "</div>"
      ],
      "text/plain": [
       "                            user    item   timestamp\n",
       "2697132                        !  421670  2016-03-04\n",
       "2371759                        !  377160  2016-03-31\n",
       "436692                         !  227940  2016-07-21\n",
       "499895                         !  304240  2016-09-15\n",
       "2211182                        !  550650  2017-10-25\n",
       "...                          ...     ...         ...\n",
       "1469646  󰀕 Africa's Population 󰀕  242680  2015-03-23\n",
       "2265710  󰀕 Africa's Population 󰀕   99900  2015-09-16\n",
       "4269027  󰀕 Africa's Population 󰀕  268910  2017-10-11\n",
       "5451032  󰀕 Africa's Population 󰀕  252610  2017-11-22\n",
       "2633090  󰀕 Africa's Population 󰀕  337340  2017-12-16\n",
       "\n",
       "[3555275 rows x 3 columns]"
      ]
     },
     "execution_count": 125,
     "metadata": {},
     "output_type": "execute_result"
    }
   ],
   "source": [
    "cored_steam_frame"
   ]
  },
  {
   "cell_type": "code",
   "execution_count": 80,
   "metadata": {},
   "outputs": [
    {
     "data": {
      "text/plain": [
       "Alex                 1535\n",
       "123                  1490\n",
       "Nick                 1327\n",
       "Chris                1302\n",
       "Saint Aaron          1226\n",
       "                     ... \n",
       "-tejp                   5\n",
       "Siepen                  5\n",
       "kursku                  5\n",
       "The Regal Seagull       5\n",
       "annainthedark           5\n",
       "Name: user, Length: 281460, dtype: int64"
      ]
     },
     "execution_count": 80,
     "metadata": {},
     "output_type": "execute_result"
    }
   ],
   "source": [
    "cored_steam_frame.user.value_counts()"
   ]
  },
  {
   "cell_type": "code",
   "execution_count": 79,
   "metadata": {},
   "outputs": [
    {
     "data": {
      "text/plain": [
       "{'num_interactions': 3555275,\n",
       " 'num_users': 281460,\n",
       " 'num_items': 11961,\n",
       " 'mean_items_per_user': 12.632,\n",
       " 'mean_user_per_items': 297.239}"
      ]
     },
     "execution_count": 79,
     "metadata": {},
     "output_type": "execute_result"
    }
   ],
   "source": [
    "steam_cored_stats"
   ]
  },
  {
   "cell_type": "code",
   "execution_count": 121,
   "metadata": {},
   "outputs": [],
   "source": [
    "cored_es_frame, es_cored_stats = process_interactions(example_steam)"
   ]
  },
  {
   "cell_type": "code",
   "execution_count": 122,
   "metadata": {},
   "outputs": [
    {
     "data": {
      "text/plain": [
       "76561198011965365    1126\n",
       "76561198094803808     820\n",
       "76561197969749884     723\n",
       "76561198094321628     609\n",
       "76561198073092169     508\n",
       "                     ... \n",
       "76561198005408205       5\n",
       "76561197973609295       5\n",
       "76561197970643396       5\n",
       "76561198052573383       5\n",
       "76561198085653640       5\n",
       "Name: user, Length: 91591, dtype: int64"
      ]
     },
     "execution_count": 122,
     "metadata": {},
     "output_type": "execute_result"
    }
   ],
   "source": [
    "cored_es_frame.user.value_counts()"
   ]
  },
  {
   "cell_type": "code",
   "execution_count": 123,
   "metadata": {},
   "outputs": [
    {
     "data": {
      "text/plain": [
       "{'num_interactions': 892224,\n",
       " 'num_users': 91591,\n",
       " 'num_items': 8542,\n",
       " 'mean_items_per_user': 9.741,\n",
       " 'mean_user_per_items': 104.451}"
      ]
     },
     "execution_count": 123,
     "metadata": {},
     "output_type": "execute_result"
    }
   ],
   "source": [
    "es_cored_stats"
   ]
  },
  {
   "cell_type": "code",
   "execution_count": null,
   "metadata": {},
   "outputs": [],
   "source": [
    "cored_es_frame"
   ]
  },
  {
   "cell_type": "markdown",
   "metadata": {},
   "source": [
    "## Dataset Stats"
   ]
  },
  {
   "cell_type": "code",
   "execution_count": 128,
   "metadata": {},
   "outputs": [],
   "source": [
    "def dataset_stats(frame):\n",
    "    mean_items_per_user = frame.groupby(by='user').count().item.mean()\n",
    "    median_items_per_user = frame.groupby(by='user').count().item.median()\n",
    "    mean_user_per_items = frame.groupby(by='item').count().user.mean()\n",
    "    density = np.format_float_scientific(len(frame) / (frame.user.nunique() * frame.item.nunique()), 2)\n",
    "    stats = {\n",
    "        \"num_interactions\": len(frame),\n",
    "        \"num_users\": frame.user.nunique(),\n",
    "        \"num_items\": frame.item.nunique(),\n",
    "        \"mean_items_per_user\": round(mean_items_per_user, 3),\n",
    "        \"mean_user_per_items\": round(mean_user_per_items, 3),\n",
    "        \"density\": density,\n",
    "        \"median_items_per_user\":median_items_per_user\n",
    "    }\n",
    "    \n",
    "    return stats"
   ]
  },
  {
   "cell_type": "code",
   "execution_count": 129,
   "metadata": {},
   "outputs": [
    {
     "data": {
      "text/plain": [
       "{'num_interactions': 892224,\n",
       " 'num_users': 91591,\n",
       " 'num_items': 8542,\n",
       " 'mean_items_per_user': 9.741,\n",
       " 'mean_user_per_items': 104.451,\n",
       " 'density': '1.14e-03',\n",
       " 'median_items_per_user': 7.0}"
      ]
     },
     "execution_count": 129,
     "metadata": {},
     "output_type": "execute_result"
    }
   ],
   "source": [
    "dataset_stats(cored_es_frame)"
   ]
  },
  {
   "cell_type": "code",
   "execution_count": 148,
   "metadata": {},
   "outputs": [],
   "source": [
    "from scipy import stats"
   ]
  },
  {
   "cell_type": "code",
   "execution_count": 149,
   "metadata": {},
   "outputs": [],
   "source": [
    "def interval_stats(time_list):        \n",
    "    \n",
    "    intervals = [(time_list[i+1] - time_list[i]).days for i in range(len(time_list)-1)]    \n",
    "        \n",
    "    mode, mode_count = stats.mode(intervals)\n",
    "    mean = np.round(np.mean(intervals), 2)\n",
    "    countx = len(time_list)\n",
    "    countx_unique = len(set([x.date() for x in time_list]))\n",
    "    \n",
    "    outs = {\n",
    "        \"num_ratings\": countx, \n",
    "        \"unique_days\": countx_unique, \n",
    "        \"mean_interval_days\": mean,\n",
    "        \"mode_interval_days\": mode[0],\n",
    "        \"mode_interval_count\": mode_count[0],\n",
    "        \"intervals\": intervals\n",
    "    }\n",
    "        \n",
    "    return outs\n",
    "\n",
    "def interval_stats_frame(frame):\n",
    "    \n",
    "    user_timelists = frame.groupby('user').progress_apply(lambda x: x.datetime.tolist())\n",
    "    user_timelist_df = user_timelists.reset_index(name='timelists')\n",
    "    \n",
    "    interval_stats_df = pd.concat([\n",
    "        user_timelist_df, \n",
    "        pd.DataFrame(list(user_timelist_df.timelists.progress_apply(interval_stats)))], \n",
    "        axis=1)\n",
    "    \n",
    "    interval_stats_df[\"unique_rating_ratio\"] = interval_stats_df.unique_days / interval_stats_df.num_ratings\n",
    "    \n",
    "    return interval_stats_df"
   ]
  },
  {
   "cell_type": "code",
   "execution_count": 150,
   "metadata": {},
   "outputs": [],
   "source": [
    "cored_es_frame['datetime'] = pd.to_datetime(cored_es_frame['timestamp'])"
   ]
  },
  {
   "cell_type": "code",
   "execution_count": 151,
   "metadata": {},
   "outputs": [
    {
     "data": {
      "application/vnd.jupyter.widget-view+json": {
       "model_id": "f4a4b3cec3f646129b41e05b938527aa",
       "version_major": 2,
       "version_minor": 0
      },
      "text/plain": [
       "  0%|          | 0/91591 [00:00<?, ?it/s]"
      ]
     },
     "metadata": {},
     "output_type": "display_data"
    },
    {
     "data": {
      "application/vnd.jupyter.widget-view+json": {
       "model_id": "2594aaa1cb8749f9aea8af21ac9c9982",
       "version_major": 2,
       "version_minor": 0
      },
      "text/plain": [
       "  0%|          | 0/91591 [00:00<?, ?it/s]"
      ]
     },
     "metadata": {},
     "output_type": "display_data"
    }
   ],
   "source": [
    "es_intervals = interval_stats_frame(cored_es_frame)"
   ]
  },
  {
   "cell_type": "code",
   "execution_count": null,
   "metadata": {},
   "outputs": [],
   "source": []
  },
  {
   "cell_type": "markdown",
   "metadata": {},
   "source": [
    "# Save"
   ]
  },
  {
   "cell_type": "code",
   "execution_count": null,
   "metadata": {},
   "outputs": [],
   "source": []
  },
  {
   "cell_type": "code",
   "execution_count": null,
   "metadata": {},
   "outputs": [],
   "source": []
  },
  {
   "cell_type": "code",
   "execution_count": null,
   "metadata": {},
   "outputs": [],
   "source": []
  },
  {
   "cell_type": "code",
   "execution_count": null,
   "metadata": {},
   "outputs": [],
   "source": []
  }
 ],
 "metadata": {
  "kernelspec": {
   "display_name": "Python 3 (ipykernel)",
   "language": "python",
   "name": "python3"
  },
  "language_info": {
   "codemirror_mode": {
    "name": "ipython",
    "version": 3
   },
   "file_extension": ".py",
   "mimetype": "text/x-python",
   "name": "python",
   "nbconvert_exporter": "python",
   "pygments_lexer": "ipython3",
   "version": "3.7.5"
  },
  "toc": {
   "base_numbering": 1,
   "nav_menu": {},
   "number_sections": true,
   "sideBar": true,
   "skip_h1_title": false,
   "title_cell": "Table of Contents",
   "title_sidebar": "Contents",
   "toc_cell": false,
   "toc_position": {},
   "toc_section_display": true,
   "toc_window_display": true
  }
 },
 "nbformat": 4,
 "nbformat_minor": 4
}
