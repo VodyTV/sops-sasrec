{
 "cells": [
  {
   "cell_type": "code",
   "execution_count": 101,
   "metadata": {},
   "outputs": [],
   "source": [
    "import requests\n",
    "import zipfile \n",
    "import io\n",
    "import os\n",
    "import gzip\n",
    "import urllib.request\n",
    "from pprint import pprint\n",
    "\n",
    "import numpy as np\n",
    "from scipy import stats\n",
    "import pandas as pd\n",
    "from tqdm.notebook import tqdm\n",
    "tqdm.pandas()"
   ]
  },
  {
   "cell_type": "markdown",
   "metadata": {},
   "source": [
    "# Download Datasets"
   ]
  },
  {
   "cell_type": "code",
   "execution_count": 3,
   "metadata": {},
   "outputs": [],
   "source": [
    "movielens1m_zip_file_url = \"https://files.grouplens.org/datasets/movielens/ml-1m.zip\"\n",
    "movielens25m_zip_file_url = \"https://files.grouplens.org/datasets/movielens/ml-25m.zip\"\n",
    "steam_gzip_file_url = \"http://cseweb.ucsd.edu/~wckang/steam_reviews.json.gz\"\n",
    "videogames_2018_file_url = \"http://deepyeti.ucsd.edu/jianmo/amazon/categoryFilesSmall/Video_Games.csv\"\n",
    "beauty_2018_file_url = \"http://deepyeti.ucsd.edu/jianmo/amazon/categoryFilesSmall/All_Beauty.csv\"\n",
    "videogames_2014_file_url = \"http://snap.stanford.edu/data/amazon/productGraph/categoryFiles/ratings_Video_Games.csv\"\n",
    "beauty_2014_file_url = \"http://snap.stanford.edu/data/amazon/productGraph/categoryFiles/ratings_Beauty.csv\""
   ]
  },
  {
   "cell_type": "code",
   "execution_count": 4,
   "metadata": {},
   "outputs": [],
   "source": [
    "save_to_path = \"../raw_data\"\n",
    "os.makedirs(save_to_path, exist_ok=True) "
   ]
  },
  {
   "cell_type": "code",
   "execution_count": 5,
   "metadata": {},
   "outputs": [],
   "source": [
    "def save_csv(file_url, save_to_path=\"./data/\", name='dataset'):\n",
    "    try:\n",
    "        df = pd.read_csv(file_url)\n",
    "        write_path = os.path.join(save_to_path, name+\".csv\")\n",
    "        df.to_csv(write_path)\n",
    "        return write_path\n",
    "    except Exception as e:\n",
    "        print(e)"
   ]
  },
  {
   "cell_type": "code",
   "execution_count": 6,
   "metadata": {},
   "outputs": [],
   "source": [
    "def save_zip(zip_file_url, save_to_path=\"./data/\", name='dataset'):\n",
    "    try:\n",
    "        r = requests.get(zip_file_url)\n",
    "        z = zipfile.ZipFile(io.BytesIO(r.content))\n",
    "        write_path = os.path.join(save_to_path)\n",
    "        z.extractall(write_path)\n",
    "        return write_path\n",
    "    except Exception as e:\n",
    "        print(e)"
   ]
  },
  {
   "cell_type": "code",
   "execution_count": 7,
   "metadata": {},
   "outputs": [],
   "source": [
    "def save_gz(gz_file_url, save_to_path=\"./data/\", name='dataset'):\n",
    "    \"\"\"\n",
    "    Adapted from https://stackoverflow.com/a/61195974/9872987\n",
    "    \"\"\"\n",
    "    # Download archive\n",
    "    try:\n",
    "        # Read the file inside the .gz archive located at url\n",
    "        with urllib.request.urlopen(gz_file_url) as response:\n",
    "            with gzip.GzipFile(fileobj=response) as uncompressed:\n",
    "                file_content = uncompressed.read()\n",
    "        # write to file in binary mode 'wb'\n",
    "        write_path = os.path.join(save_to_path, name + \".txt\")\n",
    "        with open(write_path, 'wb') as f:\n",
    "            f.write(file_content)\n",
    "            return write_path\n",
    "\n",
    "    except Exception as e:\n",
    "        print(e)\n",
    "        return 1"
   ]
  },
  {
   "cell_type": "code",
   "execution_count": 8,
   "metadata": {},
   "outputs": [],
   "source": [
    "video_games_2018_path = save_csv(videogames_2018_file_url, save_to_path, 'video_games_2018_raw')"
   ]
  },
  {
   "cell_type": "code",
   "execution_count": 9,
   "metadata": {},
   "outputs": [],
   "source": [
    "video_games_2014_path = save_csv(videogames_2014_file_url, save_to_path, 'video_games_2014_raw')"
   ]
  },
  {
   "cell_type": "code",
   "execution_count": 10,
   "metadata": {},
   "outputs": [],
   "source": [
    "beauty_2014_path = save_csv(beauty_2014_file_url, save_to_path, 'beauty_2014_raw')"
   ]
  },
  {
   "cell_type": "code",
   "execution_count": 11,
   "metadata": {},
   "outputs": [],
   "source": [
    "beauty_2018_path = save_csv(beauty_2018_file_url, save_to_path, 'beauty_2018_raw')"
   ]
  },
  {
   "cell_type": "code",
   "execution_count": 12,
   "metadata": {},
   "outputs": [],
   "source": [
    "ml1m_path = save_zip(movielens1m_zip_file_url, save_to_path)"
   ]
  },
  {
   "cell_type": "code",
   "execution_count": 13,
   "metadata": {},
   "outputs": [],
   "source": [
    "ml25m_path = save_zip(movielens25m_zip_file_url, save_to_path)"
   ]
  },
  {
   "cell_type": "code",
   "execution_count": 14,
   "metadata": {},
   "outputs": [],
   "source": [
    "steam_path = save_gz(steam_gzip_file_url, save_to_path, 'steam_raw')"
   ]
  },
  {
   "cell_type": "markdown",
   "metadata": {},
   "source": [
    "# Pull in raw data"
   ]
  },
  {
   "cell_type": "markdown",
   "metadata": {},
   "source": [
    "## Read ML-1M"
   ]
  },
  {
   "cell_type": "code",
   "execution_count": 15,
   "metadata": {},
   "outputs": [],
   "source": [
    "ml1m_df = pd.read_csv(\n",
    "    os.path.join(ml1m_path, \"ml-1m/ratings.dat\"),\n",
    "    names=[\"user\", \"item\", \"rating\", \"timestamp\"],\n",
    "    sep=\"::\", \n",
    "    engine='python'\n",
    ")"
   ]
  },
  {
   "cell_type": "markdown",
   "metadata": {},
   "source": [
    "## Read Video 2018"
   ]
  },
  {
   "cell_type": "code",
   "execution_count": 56,
   "metadata": {},
   "outputs": [],
   "source": [
    "video_2018_df = pd.read_csv(\n",
    "    videogames_2018_file_url, \n",
    "    names=[\"item\", \"user\", \"rating\", \"timestamp\"]\n",
    ")"
   ]
  },
  {
   "cell_type": "markdown",
   "metadata": {},
   "source": [
    "## Read Video 2014"
   ]
  },
  {
   "cell_type": "code",
   "execution_count": 17,
   "metadata": {},
   "outputs": [],
   "source": [
    "video_2014_df = pd.read_csv(\n",
    "    videogames_2014_file_url, \n",
    "    names=[\"user\", \"item\", \"rating\", \"timestamp\"]\n",
    ")"
   ]
  },
  {
   "cell_type": "markdown",
   "metadata": {},
   "source": [
    "## Read Beauty 2014"
   ]
  },
  {
   "cell_type": "code",
   "execution_count": 18,
   "metadata": {},
   "outputs": [],
   "source": [
    "beauty_2014_df = pd.read_csv(\n",
    "    beauty_2014_file_url, \n",
    "    names=[\"user\", \"item\", \"rating\", \"timestamp\"]\n",
    ")"
   ]
  },
  {
   "cell_type": "markdown",
   "metadata": {},
   "source": [
    "## Read Beauty 2018"
   ]
  },
  {
   "cell_type": "code",
   "execution_count": 57,
   "metadata": {},
   "outputs": [],
   "source": [
    "beauty_2018_df = pd.read_csv(\n",
    "    beauty_2018_file_url, \n",
    "    names=[\"item\", \"user\", \"rating\", \"timestamp\"]\n",
    ")"
   ]
  },
  {
   "cell_type": "markdown",
   "metadata": {},
   "source": [
    "## Read Steam"
   ]
  },
  {
   "cell_type": "code",
   "execution_count": 30,
   "metadata": {},
   "outputs": [],
   "source": [
    "def load_steam(path_to_steam):\n",
    "    \"\"\"\n",
    "    Load steam dataset and standardize format\n",
    "    \n",
    "    This will take some time!\n",
    "    \"\"\"\n",
    "    data = []\n",
    "    with open(path_to_steam) as f:\n",
    "        for i, line in tqdm(enumerate(f)):\n",
    "            line = eval(line)\n",
    "            data.append(line)\n",
    "    steam_df = pd.DataFrame(data)    \n",
    "    return steam_df"
   ]
  },
  {
   "cell_type": "code",
   "execution_count": 31,
   "metadata": {},
   "outputs": [
    {
     "data": {
      "application/vnd.jupyter.widget-view+json": {
       "model_id": "999fd38c6fdb4e74bc47e49e3c255df5",
       "version_major": 2,
       "version_minor": 0
      },
      "text/plain": [
       "|          | 0/? [00:00<?, ?it/s]"
      ]
     },
     "metadata": {},
     "output_type": "display_data"
    }
   ],
   "source": [
    "steam_df = load_steam(steam_path)"
   ]
  },
  {
   "cell_type": "code",
   "execution_count": 32,
   "metadata": {},
   "outputs": [],
   "source": [
    "def preprocess_steam(frame, uid_col=\"username\"):\n",
    "    \"\"\"\n",
    "    \n",
    "    \"\"\"\n",
    "    if uid_col == \"user_id\":\n",
    "        # Fill NAN values of user_id with empty string\n",
    "        frame.user_id.fillna(\"\", inplace=True)\n",
    "\n",
    "        # Create unique user identifier\n",
    "        frame['unique_username'] = frame[[\"username\", \"user_id\"]].apply(lambda x: \"_\".join(x), axis=1)\n",
    "\n",
    "        # Standardize column names and keep just the columns we care about\n",
    "        frame = frame[['unique_username', 'product_id', 'date']].rename(\n",
    "            columns={\"unique_username\":\"user\", \"product_id\": \"item\", \"date\":\"timestamp\"}).copy()\n",
    "    elif uid_col == \"username\":\n",
    "        frame = frame[['username', 'product_id', 'date']].rename(\n",
    "            columns={\"username\":\"user\", \"product_id\": \"item\", \"date\":\"timestamp\"}).copy()\n",
    "    else:\n",
    "        print(\"Not a good uid col\")\n",
    "    return frame"
   ]
  },
  {
   "cell_type": "code",
   "execution_count": 33,
   "metadata": {},
   "outputs": [],
   "source": [
    "steam_df = preprocess_steam(steam_df)"
   ]
  },
  {
   "cell_type": "code",
   "execution_count": 102,
   "metadata": {},
   "outputs": [
    {
     "data": {
      "text/html": [
       "<div>\n",
       "<style scoped>\n",
       "    .dataframe tbody tr th:only-of-type {\n",
       "        vertical-align: middle;\n",
       "    }\n",
       "\n",
       "    .dataframe tbody tr th {\n",
       "        vertical-align: top;\n",
       "    }\n",
       "\n",
       "    .dataframe thead th {\n",
       "        text-align: right;\n",
       "    }\n",
       "</style>\n",
       "<table border=\"1\" class=\"dataframe\">\n",
       "  <thead>\n",
       "    <tr style=\"text-align: right;\">\n",
       "      <th></th>\n",
       "      <th>user</th>\n",
       "      <th>item</th>\n",
       "      <th>timestamp</th>\n",
       "    </tr>\n",
       "  </thead>\n",
       "  <tbody>\n",
       "    <tr>\n",
       "      <th>0</th>\n",
       "      <td>Chaos Syren</td>\n",
       "      <td>725280</td>\n",
       "      <td>2017-12-17</td>\n",
       "    </tr>\n",
       "    <tr>\n",
       "      <th>1</th>\n",
       "      <td>₮ʜᴇ Wᴀʀᴛᴏɴ</td>\n",
       "      <td>328100</td>\n",
       "      <td>2017-12-27</td>\n",
       "    </tr>\n",
       "    <tr>\n",
       "      <th>2</th>\n",
       "      <td>hello?&lt;</td>\n",
       "      <td>328100</td>\n",
       "      <td>2017-10-16</td>\n",
       "    </tr>\n",
       "    <tr>\n",
       "      <th>3</th>\n",
       "      <td>Cyderine916</td>\n",
       "      <td>35140</td>\n",
       "      <td>2018-01-04</td>\n",
       "    </tr>\n",
       "    <tr>\n",
       "      <th>4</th>\n",
       "      <td>DarklyThinking</td>\n",
       "      <td>35140</td>\n",
       "      <td>2018-01-04</td>\n",
       "    </tr>\n",
       "  </tbody>\n",
       "</table>\n",
       "</div>"
      ],
      "text/plain": [
       "             user    item   timestamp\n",
       "0     Chaos Syren  725280  2017-12-17\n",
       "1      ₮ʜᴇ Wᴀʀᴛᴏɴ  328100  2017-12-27\n",
       "2         hello?<  328100  2017-10-16\n",
       "3     Cyderine916   35140  2018-01-04\n",
       "4  DarklyThinking   35140  2018-01-04"
      ]
     },
     "execution_count": 102,
     "metadata": {},
     "output_type": "execute_result"
    }
   ],
   "source": [
    "steam_df.head()"
   ]
  },
  {
   "cell_type": "markdown",
   "metadata": {},
   "source": [
    "# Processing"
   ]
  },
  {
   "cell_type": "code",
   "execution_count": 36,
   "metadata": {},
   "outputs": [],
   "source": [
    "def filter_by_interactions(frame, min_i=5, user_col='user', item_col='item'):\n",
    "    \n",
    "    keep_users = set(frame[frame[user_col].map(\n",
    "        frame[user_col].value_counts()) >= min_i][user_col].unique())\n",
    "    \n",
    "    keep_items = set(frame[frame[item_col].map(\n",
    "        frame[item_col].value_counts()) >= min_i][item_col].unique())\n",
    "    \n",
    "    frame = frame[frame[user_col].isin(keep_users) & frame[item_col].isin(keep_items)]\n",
    "    return frame"
   ]
  },
  {
   "cell_type": "code",
   "execution_count": 38,
   "metadata": {},
   "outputs": [],
   "source": [
    "def n_core_frame(frame, n=5, verbose=False):\n",
    "    i = 1\n",
    "    while frame.user.value_counts().min() <= 5 or frame.item.value_counts().min() <= 5:\n",
    "        i += 1\n",
    "        if verbose:\n",
    "            print(\"Iter: \", i)\n",
    "        frame = filter_by_interactions(frame)\n",
    "        if verbose:\n",
    "            print(\"\\n\")\n",
    "            print(\"users: \", frame.user.nunique())\n",
    "            print(\"items: \", frame.item.nunique())\n",
    "            print(\"min user:\", frame.user.value_counts().min())\n",
    "            print(\"min item:\", frame.item.value_counts().min())\n",
    "        if frame.user.value_counts().min() >= 5 and frame.item.value_counts().min() >= 5:\n",
    "            break            \n",
    "    return frame"
   ]
  },
  {
   "cell_type": "code",
   "execution_count": 40,
   "metadata": {},
   "outputs": [],
   "source": [
    "def dataset_stats(frame):\n",
    "    mean_items_per_user = frame.groupby(by='user').count().item.mean()\n",
    "    median_items_per_user = frame.groupby(by='user').count().item.median()\n",
    "    mean_user_per_items = frame.groupby(by='item').count().user.mean()\n",
    "    density = np.format_float_scientific(len(frame) / (frame.user.nunique() * frame.item.nunique()), 2)\n",
    "    stats_ = {\n",
    "        \"num_interactions\": len(frame),\n",
    "        \"num_users\": frame.user.nunique(),\n",
    "        \"num_items\": frame.item.nunique(),\n",
    "        \"mean_items_per_user\": round(mean_items_per_user, 3),\n",
    "        \"mean_user_per_items\": round(mean_user_per_items, 3),\n",
    "        \"density\": density,\n",
    "        \"median_items_per_user\":median_items_per_user\n",
    "    }\n",
    "    \n",
    "    return stats_"
   ]
  },
  {
   "cell_type": "code",
   "execution_count": 41,
   "metadata": {},
   "outputs": [],
   "source": [
    "def process_interactions(frame):\n",
    "    frame = frame.copy()\n",
    "    frame.drop_duplicates(subset=['user', 'item', 'timestamp'], inplace=True)\n",
    "    frame.sort_values(by=['user', 'timestamp'], inplace=True)\n",
    "    cored_frame = n_core_frame(frame, n=5)\n",
    "    return cored_frame"
   ]
  },
  {
   "cell_type": "markdown",
   "metadata": {},
   "source": [
    "## Process ML-1M"
   ]
  },
  {
   "cell_type": "code",
   "execution_count": 43,
   "metadata": {},
   "outputs": [],
   "source": [
    "cored_ml1m_frame = process_interactions(ml1m_df)"
   ]
  },
  {
   "cell_type": "code",
   "execution_count": 44,
   "metadata": {},
   "outputs": [
    {
     "data": {
      "text/html": [
       "<div>\n",
       "<style scoped>\n",
       "    .dataframe tbody tr th:only-of-type {\n",
       "        vertical-align: middle;\n",
       "    }\n",
       "\n",
       "    .dataframe tbody tr th {\n",
       "        vertical-align: top;\n",
       "    }\n",
       "\n",
       "    .dataframe thead th {\n",
       "        text-align: right;\n",
       "    }\n",
       "</style>\n",
       "<table border=\"1\" class=\"dataframe\">\n",
       "  <thead>\n",
       "    <tr style=\"text-align: right;\">\n",
       "      <th></th>\n",
       "      <th>user</th>\n",
       "      <th>item</th>\n",
       "      <th>rating</th>\n",
       "      <th>timestamp</th>\n",
       "    </tr>\n",
       "  </thead>\n",
       "  <tbody>\n",
       "    <tr>\n",
       "      <th>31</th>\n",
       "      <td>1</td>\n",
       "      <td>3186</td>\n",
       "      <td>4</td>\n",
       "      <td>978300019</td>\n",
       "    </tr>\n",
       "    <tr>\n",
       "      <th>22</th>\n",
       "      <td>1</td>\n",
       "      <td>1270</td>\n",
       "      <td>5</td>\n",
       "      <td>978300055</td>\n",
       "    </tr>\n",
       "    <tr>\n",
       "      <th>27</th>\n",
       "      <td>1</td>\n",
       "      <td>1721</td>\n",
       "      <td>4</td>\n",
       "      <td>978300055</td>\n",
       "    </tr>\n",
       "    <tr>\n",
       "      <th>37</th>\n",
       "      <td>1</td>\n",
       "      <td>1022</td>\n",
       "      <td>5</td>\n",
       "      <td>978300055</td>\n",
       "    </tr>\n",
       "    <tr>\n",
       "      <th>24</th>\n",
       "      <td>1</td>\n",
       "      <td>2340</td>\n",
       "      <td>3</td>\n",
       "      <td>978300103</td>\n",
       "    </tr>\n",
       "  </tbody>\n",
       "</table>\n",
       "</div>"
      ],
      "text/plain": [
       "    user  item  rating  timestamp\n",
       "31     1  3186       4  978300019\n",
       "22     1  1270       5  978300055\n",
       "27     1  1721       4  978300055\n",
       "37     1  1022       5  978300055\n",
       "24     1  2340       3  978300103"
      ]
     },
     "execution_count": 44,
     "metadata": {},
     "output_type": "execute_result"
    }
   ],
   "source": [
    "cored_ml1m_frame.head()"
   ]
  },
  {
   "cell_type": "markdown",
   "metadata": {},
   "source": [
    "## Process Steam"
   ]
  },
  {
   "cell_type": "code",
   "execution_count": 45,
   "metadata": {},
   "outputs": [],
   "source": [
    "cored_steam_frame = process_interactions(steam_df)"
   ]
  },
  {
   "cell_type": "code",
   "execution_count": 49,
   "metadata": {},
   "outputs": [
    {
     "data": {
      "text/html": [
       "<div>\n",
       "<style scoped>\n",
       "    .dataframe tbody tr th:only-of-type {\n",
       "        vertical-align: middle;\n",
       "    }\n",
       "\n",
       "    .dataframe tbody tr th {\n",
       "        vertical-align: top;\n",
       "    }\n",
       "\n",
       "    .dataframe thead th {\n",
       "        text-align: right;\n",
       "    }\n",
       "</style>\n",
       "<table border=\"1\" class=\"dataframe\">\n",
       "  <thead>\n",
       "    <tr style=\"text-align: right;\">\n",
       "      <th></th>\n",
       "      <th>user</th>\n",
       "      <th>item</th>\n",
       "      <th>timestamp</th>\n",
       "    </tr>\n",
       "  </thead>\n",
       "  <tbody>\n",
       "    <tr>\n",
       "      <th>2697132</th>\n",
       "      <td>!</td>\n",
       "      <td>421670</td>\n",
       "      <td>2016-03-04</td>\n",
       "    </tr>\n",
       "    <tr>\n",
       "      <th>2371759</th>\n",
       "      <td>!</td>\n",
       "      <td>377160</td>\n",
       "      <td>2016-03-31</td>\n",
       "    </tr>\n",
       "    <tr>\n",
       "      <th>436692</th>\n",
       "      <td>!</td>\n",
       "      <td>227940</td>\n",
       "      <td>2016-07-21</td>\n",
       "    </tr>\n",
       "    <tr>\n",
       "      <th>499895</th>\n",
       "      <td>!</td>\n",
       "      <td>304240</td>\n",
       "      <td>2016-09-15</td>\n",
       "    </tr>\n",
       "    <tr>\n",
       "      <th>2211182</th>\n",
       "      <td>!</td>\n",
       "      <td>550650</td>\n",
       "      <td>2017-10-25</td>\n",
       "    </tr>\n",
       "  </tbody>\n",
       "</table>\n",
       "</div>"
      ],
      "text/plain": [
       "        user    item   timestamp\n",
       "2697132    !  421670  2016-03-04\n",
       "2371759    !  377160  2016-03-31\n",
       "436692     !  227940  2016-07-21\n",
       "499895     !  304240  2016-09-15\n",
       "2211182    !  550650  2017-10-25"
      ]
     },
     "execution_count": 49,
     "metadata": {},
     "output_type": "execute_result"
    }
   ],
   "source": [
    "cored_steam_frame.head()"
   ]
  },
  {
   "cell_type": "markdown",
   "metadata": {},
   "source": [
    "## Process Video 2018"
   ]
  },
  {
   "cell_type": "code",
   "execution_count": 58,
   "metadata": {},
   "outputs": [],
   "source": [
    "cored_video2018_frame = process_interactions(video_2018_df)"
   ]
  },
  {
   "cell_type": "code",
   "execution_count": 59,
   "metadata": {},
   "outputs": [
    {
     "data": {
      "text/html": [
       "<div>\n",
       "<style scoped>\n",
       "    .dataframe tbody tr th:only-of-type {\n",
       "        vertical-align: middle;\n",
       "    }\n",
       "\n",
       "    .dataframe tbody tr th {\n",
       "        vertical-align: top;\n",
       "    }\n",
       "\n",
       "    .dataframe thead th {\n",
       "        text-align: right;\n",
       "    }\n",
       "</style>\n",
       "<table border=\"1\" class=\"dataframe\">\n",
       "  <thead>\n",
       "    <tr style=\"text-align: right;\">\n",
       "      <th></th>\n",
       "      <th>item</th>\n",
       "      <th>user</th>\n",
       "      <th>rating</th>\n",
       "      <th>timestamp</th>\n",
       "    </tr>\n",
       "  </thead>\n",
       "  <tbody>\n",
       "    <tr>\n",
       "      <th>1161014</th>\n",
       "      <td>B00A878J5I</td>\n",
       "      <td>A0220159ZRNBTRKLG08H</td>\n",
       "      <td>5.0</td>\n",
       "      <td>1419897600</td>\n",
       "    </tr>\n",
       "    <tr>\n",
       "      <th>1652389</th>\n",
       "      <td>B00LSBNSJA</td>\n",
       "      <td>A0220159ZRNBTRKLG08H</td>\n",
       "      <td>5.0</td>\n",
       "      <td>1420329600</td>\n",
       "    </tr>\n",
       "    <tr>\n",
       "      <th>144283</th>\n",
       "      <td>B000084318</td>\n",
       "      <td>A0220159ZRNBTRKLG08H</td>\n",
       "      <td>5.0</td>\n",
       "      <td>1428710400</td>\n",
       "    </tr>\n",
       "    <tr>\n",
       "      <th>450508</th>\n",
       "      <td>B000X37732</td>\n",
       "      <td>A0220159ZRNBTRKLG08H</td>\n",
       "      <td>5.0</td>\n",
       "      <td>1428710400</td>\n",
       "    </tr>\n",
       "    <tr>\n",
       "      <th>904008</th>\n",
       "      <td>B004WLRQMI</td>\n",
       "      <td>A0220159ZRNBTRKLG08H</td>\n",
       "      <td>3.0</td>\n",
       "      <td>1428710400</td>\n",
       "    </tr>\n",
       "  </tbody>\n",
       "</table>\n",
       "</div>"
      ],
      "text/plain": [
       "               item                  user  rating   timestamp\n",
       "1161014  B00A878J5I  A0220159ZRNBTRKLG08H     5.0  1419897600\n",
       "1652389  B00LSBNSJA  A0220159ZRNBTRKLG08H     5.0  1420329600\n",
       "144283   B000084318  A0220159ZRNBTRKLG08H     5.0  1428710400\n",
       "450508   B000X37732  A0220159ZRNBTRKLG08H     5.0  1428710400\n",
       "904008   B004WLRQMI  A0220159ZRNBTRKLG08H     3.0  1428710400"
      ]
     },
     "execution_count": 59,
     "metadata": {},
     "output_type": "execute_result"
    }
   ],
   "source": [
    "cored_video2018_frame.head()"
   ]
  },
  {
   "cell_type": "markdown",
   "metadata": {},
   "source": [
    "## Process Video 2014"
   ]
  },
  {
   "cell_type": "code",
   "execution_count": 50,
   "metadata": {},
   "outputs": [],
   "source": [
    "cored_video2014_frame = process_interactions(video_2014_df)"
   ]
  },
  {
   "cell_type": "code",
   "execution_count": 51,
   "metadata": {},
   "outputs": [
    {
     "data": {
      "text/html": [
       "<div>\n",
       "<style scoped>\n",
       "    .dataframe tbody tr th:only-of-type {\n",
       "        vertical-align: middle;\n",
       "    }\n",
       "\n",
       "    .dataframe tbody tr th {\n",
       "        vertical-align: top;\n",
       "    }\n",
       "\n",
       "    .dataframe thead th {\n",
       "        text-align: right;\n",
       "    }\n",
       "</style>\n",
       "<table border=\"1\" class=\"dataframe\">\n",
       "  <thead>\n",
       "    <tr style=\"text-align: right;\">\n",
       "      <th></th>\n",
       "      <th>user</th>\n",
       "      <th>item</th>\n",
       "      <th>rating</th>\n",
       "      <th>timestamp</th>\n",
       "    </tr>\n",
       "  </thead>\n",
       "  <tbody>\n",
       "    <tr>\n",
       "      <th>1110943</th>\n",
       "      <td>A00263941WP7WCIL7AKWL</td>\n",
       "      <td>B008OSDHD2</td>\n",
       "      <td>5.0</td>\n",
       "      <td>1352160000</td>\n",
       "    </tr>\n",
       "    <tr>\n",
       "      <th>1114365</th>\n",
       "      <td>A00263941WP7WCIL7AKWL</td>\n",
       "      <td>B008SBZF4Y</td>\n",
       "      <td>5.0</td>\n",
       "      <td>1352160000</td>\n",
       "    </tr>\n",
       "    <tr>\n",
       "      <th>1111186</th>\n",
       "      <td>A00263941WP7WCIL7AKWL</td>\n",
       "      <td>B008OSDHZK</td>\n",
       "      <td>5.0</td>\n",
       "      <td>1352246400</td>\n",
       "    </tr>\n",
       "    <tr>\n",
       "      <th>1110885</th>\n",
       "      <td>A00263941WP7WCIL7AKWL</td>\n",
       "      <td>B008OSDGV0</td>\n",
       "      <td>5.0</td>\n",
       "      <td>1353715200</td>\n",
       "    </tr>\n",
       "    <tr>\n",
       "      <th>1114450</th>\n",
       "      <td>A00263941WP7WCIL7AKWL</td>\n",
       "      <td>B008SBZF5S</td>\n",
       "      <td>5.0</td>\n",
       "      <td>1353715200</td>\n",
       "    </tr>\n",
       "  </tbody>\n",
       "</table>\n",
       "</div>"
      ],
      "text/plain": [
       "                          user        item  rating   timestamp\n",
       "1110943  A00263941WP7WCIL7AKWL  B008OSDHD2     5.0  1352160000\n",
       "1114365  A00263941WP7WCIL7AKWL  B008SBZF4Y     5.0  1352160000\n",
       "1111186  A00263941WP7WCIL7AKWL  B008OSDHZK     5.0  1352246400\n",
       "1110885  A00263941WP7WCIL7AKWL  B008OSDGV0     5.0  1353715200\n",
       "1114450  A00263941WP7WCIL7AKWL  B008SBZF5S     5.0  1353715200"
      ]
     },
     "execution_count": 51,
     "metadata": {},
     "output_type": "execute_result"
    }
   ],
   "source": [
    "cored_video2014_frame.head()"
   ]
  },
  {
   "cell_type": "markdown",
   "metadata": {},
   "source": [
    "## Process Beauty 2018"
   ]
  },
  {
   "cell_type": "code",
   "execution_count": 60,
   "metadata": {},
   "outputs": [],
   "source": [
    "cored_beauty2018_frame = process_interactions(beauty_2018_df)"
   ]
  },
  {
   "cell_type": "code",
   "execution_count": 61,
   "metadata": {},
   "outputs": [
    {
     "data": {
      "text/html": [
       "<div>\n",
       "<style scoped>\n",
       "    .dataframe tbody tr th:only-of-type {\n",
       "        vertical-align: middle;\n",
       "    }\n",
       "\n",
       "    .dataframe tbody tr th {\n",
       "        vertical-align: top;\n",
       "    }\n",
       "\n",
       "    .dataframe thead th {\n",
       "        text-align: right;\n",
       "    }\n",
       "</style>\n",
       "<table border=\"1\" class=\"dataframe\">\n",
       "  <thead>\n",
       "    <tr style=\"text-align: right;\">\n",
       "      <th></th>\n",
       "      <th>item</th>\n",
       "      <th>user</th>\n",
       "      <th>rating</th>\n",
       "      <th>timestamp</th>\n",
       "    </tr>\n",
       "  </thead>\n",
       "  <tbody>\n",
       "    <tr>\n",
       "      <th>9872</th>\n",
       "      <td>B00006L9LC</td>\n",
       "      <td>A1118RD3AJD5KH</td>\n",
       "      <td>5.0</td>\n",
       "      <td>1524614400</td>\n",
       "    </tr>\n",
       "    <tr>\n",
       "      <th>49455</th>\n",
       "      <td>B000URXP6E</td>\n",
       "      <td>A1118RD3AJD5KH</td>\n",
       "      <td>5.0</td>\n",
       "      <td>1524614400</td>\n",
       "    </tr>\n",
       "    <tr>\n",
       "      <th>56255</th>\n",
       "      <td>B0012Y0ZG2</td>\n",
       "      <td>A1118RD3AJD5KH</td>\n",
       "      <td>5.0</td>\n",
       "      <td>1524614400</td>\n",
       "    </tr>\n",
       "    <tr>\n",
       "      <th>80179</th>\n",
       "      <td>B001OHV1H4</td>\n",
       "      <td>A1118RD3AJD5KH</td>\n",
       "      <td>5.0</td>\n",
       "      <td>1524614400</td>\n",
       "    </tr>\n",
       "    <tr>\n",
       "      <th>324816</th>\n",
       "      <td>B00VG1AV5Q</td>\n",
       "      <td>A1118RD3AJD5KH</td>\n",
       "      <td>5.0</td>\n",
       "      <td>1524614400</td>\n",
       "    </tr>\n",
       "  </tbody>\n",
       "</table>\n",
       "</div>"
      ],
      "text/plain": [
       "              item            user  rating   timestamp\n",
       "9872    B00006L9LC  A1118RD3AJD5KH     5.0  1524614400\n",
       "49455   B000URXP6E  A1118RD3AJD5KH     5.0  1524614400\n",
       "56255   B0012Y0ZG2  A1118RD3AJD5KH     5.0  1524614400\n",
       "80179   B001OHV1H4  A1118RD3AJD5KH     5.0  1524614400\n",
       "324816  B00VG1AV5Q  A1118RD3AJD5KH     5.0  1524614400"
      ]
     },
     "execution_count": 61,
     "metadata": {},
     "output_type": "execute_result"
    }
   ],
   "source": [
    "cored_beauty2018_frame.head()"
   ]
  },
  {
   "cell_type": "markdown",
   "metadata": {},
   "source": [
    "## Process Beauty 2014"
   ]
  },
  {
   "cell_type": "code",
   "execution_count": 53,
   "metadata": {},
   "outputs": [],
   "source": [
    "cored_beauty2014_frame = process_interactions(beauty_2014_df)"
   ]
  },
  {
   "cell_type": "code",
   "execution_count": 55,
   "metadata": {},
   "outputs": [
    {
     "data": {
      "text/html": [
       "<div>\n",
       "<style scoped>\n",
       "    .dataframe tbody tr th:only-of-type {\n",
       "        vertical-align: middle;\n",
       "    }\n",
       "\n",
       "    .dataframe tbody tr th {\n",
       "        vertical-align: top;\n",
       "    }\n",
       "\n",
       "    .dataframe thead th {\n",
       "        text-align: right;\n",
       "    }\n",
       "</style>\n",
       "<table border=\"1\" class=\"dataframe\">\n",
       "  <thead>\n",
       "    <tr style=\"text-align: right;\">\n",
       "      <th></th>\n",
       "      <th>user</th>\n",
       "      <th>item</th>\n",
       "      <th>rating</th>\n",
       "      <th>timestamp</th>\n",
       "    </tr>\n",
       "  </thead>\n",
       "  <tbody>\n",
       "    <tr>\n",
       "      <th>1581545</th>\n",
       "      <td>A00414041RD0BXM6WK0GX</td>\n",
       "      <td>B007IY97U0</td>\n",
       "      <td>3.0</td>\n",
       "      <td>1405296000</td>\n",
       "    </tr>\n",
       "    <tr>\n",
       "      <th>1643683</th>\n",
       "      <td>A00414041RD0BXM6WK0GX</td>\n",
       "      <td>B00870XLDS</td>\n",
       "      <td>2.0</td>\n",
       "      <td>1405296000</td>\n",
       "    </tr>\n",
       "    <tr>\n",
       "      <th>1681280</th>\n",
       "      <td>A00414041RD0BXM6WK0GX</td>\n",
       "      <td>B008MIRO88</td>\n",
       "      <td>1.0</td>\n",
       "      <td>1405296000</td>\n",
       "    </tr>\n",
       "    <tr>\n",
       "      <th>1853091</th>\n",
       "      <td>A00414041RD0BXM6WK0GX</td>\n",
       "      <td>B00BQYYMN0</td>\n",
       "      <td>3.0</td>\n",
       "      <td>1405296000</td>\n",
       "    </tr>\n",
       "    <tr>\n",
       "      <th>1975026</th>\n",
       "      <td>A00414041RD0BXM6WK0GX</td>\n",
       "      <td>B00GRTQBTM</td>\n",
       "      <td>5.0</td>\n",
       "      <td>1405296000</td>\n",
       "    </tr>\n",
       "  </tbody>\n",
       "</table>\n",
       "</div>"
      ],
      "text/plain": [
       "                          user        item  rating   timestamp\n",
       "1581545  A00414041RD0BXM6WK0GX  B007IY97U0     3.0  1405296000\n",
       "1643683  A00414041RD0BXM6WK0GX  B00870XLDS     2.0  1405296000\n",
       "1681280  A00414041RD0BXM6WK0GX  B008MIRO88     1.0  1405296000\n",
       "1853091  A00414041RD0BXM6WK0GX  B00BQYYMN0     3.0  1405296000\n",
       "1975026  A00414041RD0BXM6WK0GX  B00GRTQBTM     5.0  1405296000"
      ]
     },
     "execution_count": 55,
     "metadata": {},
     "output_type": "execute_result"
    }
   ],
   "source": [
    "cored_beauty2014_frame.head()"
   ]
  },
  {
   "cell_type": "markdown",
   "metadata": {},
   "source": [
    "# Dataset Stats"
   ]
  },
  {
   "cell_type": "code",
   "execution_count": 62,
   "metadata": {},
   "outputs": [],
   "source": [
    "def dataset_stats(frame):\n",
    "    mean_items_per_user = frame.groupby(by='user').count().item.mean()\n",
    "    median_items_per_user = frame.groupby(by='user').count().item.median()\n",
    "    mean_user_per_items = frame.groupby(by='item').count().user.mean()\n",
    "    density = np.format_float_scientific(len(frame) / (frame.user.nunique() * frame.item.nunique()), 2)\n",
    "    stats_ = {\n",
    "        \"num_interactions\": len(frame),\n",
    "        \"num_users\": frame.user.nunique(),\n",
    "        \"num_items\": frame.item.nunique(),\n",
    "        \"mean_items_per_user\": round(mean_items_per_user, 3),\n",
    "        \"mean_user_per_items\": round(mean_user_per_items, 3),\n",
    "        \"density\": density,\n",
    "        \"median_items_per_user\":median_items_per_user\n",
    "    }\n",
    "    \n",
    "    return stats_"
   ]
  },
  {
   "cell_type": "code",
   "execution_count": 64,
   "metadata": {},
   "outputs": [],
   "source": [
    "cored_frames = {\n",
    "    \"beauty_2014\": cored_beauty2014_frame, \n",
    "    \"beauty_2018\": cored_beauty2018_frame, \n",
    "    \"ml-1m\": cored_ml1m_frame, \n",
    "    \"steam\": cored_steam_frame, \n",
    "    \"video_2014\": cored_video2014_frame, \n",
    "    \"video_2018\": cored_video2018_frame\n",
    "}"
   ]
  },
  {
   "cell_type": "code",
   "execution_count": 70,
   "metadata": {},
   "outputs": [
    {
     "name": "stdout",
     "output_type": "stream",
     "text": [
      "\n",
      "\n",
      "beauty_2014\n",
      "{'density': '7.34e-04',\n",
      " 'mean_items_per_user': 8.876,\n",
      " 'mean_user_per_items': 16.404,\n",
      " 'median_items_per_user': 6.0,\n",
      " 'num_interactions': 198502,\n",
      " 'num_items': 12101,\n",
      " 'num_users': 22363}\n",
      "\n",
      "\n",
      "beauty_2018\n",
      "{'density': '1.82e-01',\n",
      " 'mean_items_per_user': 5.086,\n",
      " 'mean_user_per_items': 27.429,\n",
      " 'median_items_per_user': 5.0,\n",
      " 'num_interactions': 768,\n",
      " 'num_items': 28,\n",
      " 'num_users': 151}\n",
      "\n",
      "\n",
      "ml1m\n",
      "{'density': '4.84e-02',\n",
      " 'mean_items_per_user': 165.499,\n",
      " 'mean_user_per_items': 292.626,\n",
      " 'median_items_per_user': 96.0,\n",
      " 'num_interactions': 999611,\n",
      " 'num_items': 3416,\n",
      " 'num_users': 6040}\n",
      "\n",
      "\n",
      "steam\n",
      "{'density': '1.06e-03',\n",
      " 'mean_items_per_user': 12.632,\n",
      " 'mean_user_per_items': 297.239,\n",
      " 'median_items_per_user': 8.0,\n",
      " 'num_interactions': 3555275,\n",
      " 'num_items': 11961,\n",
      " 'num_users': 281460}\n",
      "\n",
      "\n",
      "video_2014\n",
      "{'density': '8.94e-04',\n",
      " 'mean_items_per_user': 9.537,\n",
      " 'mean_user_per_items': 21.719,\n",
      " 'median_items_per_user': 7.0,\n",
      " 'num_interactions': 231780,\n",
      " 'num_items': 10672,\n",
      " 'num_users': 24303}\n",
      "\n",
      "\n",
      "video_2018\n",
      "{'density': '5.31e-04',\n",
      " 'mean_items_per_user': 8.969,\n",
      " 'mean_user_per_items': 26.9,\n",
      " 'median_items_per_user': 6.0,\n",
      " 'num_interactions': 454529,\n",
      " 'num_items': 16897,\n",
      " 'num_users': 50677}\n"
     ]
    }
   ],
   "source": [
    "for name, frame in cored_frames.items():\n",
    "    ds_stats = dataset_stats(frame)\n",
    "    print(\"\\n\")\n",
    "    print(name)\n",
    "    pprint(ds_stats)"
   ]
  },
  {
   "cell_type": "markdown",
   "metadata": {},
   "source": [
    "# Interval Stats"
   ]
  },
  {
   "cell_type": "code",
   "execution_count": null,
   "metadata": {},
   "outputs": [],
   "source": [
    "from scipy import stats"
   ]
  },
  {
   "cell_type": "code",
   "execution_count": 91,
   "metadata": {},
   "outputs": [],
   "source": [
    "def interval_stats(time_list):        \n",
    "    \n",
    "    intervals = [(time_list[i+1] - time_list[i]).days for i in range(len(time_list)-1)]    \n",
    "    mode, mode_count = stats.mode(intervals)\n",
    "    mean = np.round(np.mean(intervals), 2)\n",
    "    countx = len(time_list)\n",
    "    countx_unique = len(set([x.date() for x in time_list]))\n",
    "    \n",
    "    outs = {\n",
    "        \"num_ratings\": countx, \n",
    "        \"unique_days\": countx_unique, \n",
    "        \"mean_interval\": mean,\n",
    "        \"mode_interval\": mode[0],\n",
    "        \"mode_interval_count\": mode_count[0],\n",
    "        \"intervals\": intervals\n",
    "    }\n",
    "        \n",
    "    return outs\n",
    "\n",
    "def interval_stats_frame(frame, datetime_units=None):\n",
    "    if datetime_units:\n",
    "        frame['datetime'] = pd.to_datetime(frame.timestamp, unit=datetime_units)\n",
    "    else:\n",
    "        frame['datetime'] = pd.to_datetime(frame.timestamp)\n",
    "    user_timelists = frame.groupby('user').progress_apply(lambda x: x.datetime.tolist())\n",
    "    user_timelist_df = user_timelists.reset_index(name='timelists')\n",
    "    \n",
    "    interval_stats_df = pd.concat([\n",
    "        user_timelist_df, \n",
    "        pd.DataFrame(list(user_timelist_df.timelists.progress_apply(interval_stats)))], \n",
    "        axis=1)\n",
    "    \n",
    "    interval_stats_df[\"unique_rating_ratio\"] = interval_stats_df.unique_days / interval_stats_df.num_ratings\n",
    "    \n",
    "    return interval_stats_df"
   ]
  },
  {
   "cell_type": "code",
   "execution_count": 95,
   "metadata": {
    "scrolled": false
   },
   "outputs": [
    {
     "name": "stdout",
     "output_type": "stream",
     "text": [
      "\n",
      "\n",
      "beauty_2014\n"
     ]
    },
    {
     "data": {
      "application/vnd.jupyter.widget-view+json": {
       "model_id": "983a069056bb4cd5abb9bdcf480f7da1",
       "version_major": 2,
       "version_minor": 0
      },
      "text/plain": [
       "  0%|          | 0/22363 [00:00<?, ?it/s]"
      ]
     },
     "metadata": {},
     "output_type": "display_data"
    },
    {
     "data": {
      "application/vnd.jupyter.widget-view+json": {
       "model_id": "d020d65ac9904dc7b005b80b297eeb71",
       "version_major": 2,
       "version_minor": 0
      },
      "text/plain": [
       "  0%|          | 0/22363 [00:00<?, ?it/s]"
      ]
     },
     "metadata": {},
     "output_type": "display_data"
    },
    {
     "name": "stdout",
     "output_type": "stream",
     "text": [
      "        num_ratings   unique_days  mean_interval_days  mode_interval_days  \\\n",
      "count  22363.000000  22363.000000        22363.000000        22363.000000   \n",
      "mean       8.876358      5.415195           83.775561            4.032017   \n",
      "std        8.163819      5.729394           96.473753           19.460027   \n",
      "min        5.000000      1.000000            0.000000            0.000000   \n",
      "25%        5.000000      3.000000           16.320000            0.000000   \n",
      "50%        6.000000      4.000000           53.430000            0.000000   \n",
      "75%        9.000000      6.000000          115.250000            0.000000   \n",
      "max      204.000000    151.000000          909.250000          744.000000   \n",
      "\n",
      "       mode_interval_count  unique_rating_ratio  \n",
      "count         22363.000000         22363.000000  \n",
      "mean              3.621965             0.610316  \n",
      "std               4.138630             0.255771  \n",
      "min               1.000000             0.041667  \n",
      "25%               1.000000             0.400000  \n",
      "50%               3.000000             0.600000  \n",
      "75%               4.000000             0.800000  \n",
      "max             106.000000             1.000000  \n",
      "\n",
      "\n",
      "beauty_2018\n"
     ]
    },
    {
     "data": {
      "application/vnd.jupyter.widget-view+json": {
       "model_id": "f577e2f414fc4d039755f23430a0fbee",
       "version_major": 2,
       "version_minor": 0
      },
      "text/plain": [
       "  0%|          | 0/151 [00:00<?, ?it/s]"
      ]
     },
     "metadata": {},
     "output_type": "display_data"
    },
    {
     "data": {
      "application/vnd.jupyter.widget-view+json": {
       "model_id": "3896d090c4de491eac97739b3faadddd",
       "version_major": 2,
       "version_minor": 0
      },
      "text/plain": [
       "  0%|          | 0/151 [00:00<?, ?it/s]"
      ]
     },
     "metadata": {},
     "output_type": "display_data"
    },
    {
     "name": "stdout",
     "output_type": "stream",
     "text": [
      "       num_ratings  unique_days  mean_interval_days  mode_interval_days  \\\n",
      "count   151.000000   151.000000          151.000000          151.000000   \n",
      "mean      5.086093     1.218543            4.097748            0.211921   \n",
      "std       0.461019     0.807416           20.519423            2.168284   \n",
      "min       5.000000     1.000000            0.000000            0.000000   \n",
      "25%       5.000000     1.000000            0.000000            0.000000   \n",
      "50%       5.000000     1.000000            0.000000            0.000000   \n",
      "75%       5.000000     1.000000            0.000000            0.000000   \n",
      "max       8.000000     7.000000          191.750000           26.000000   \n",
      "\n",
      "       mode_interval_count  unique_rating_ratio  \n",
      "count           151.000000           151.000000  \n",
      "mean              3.880795             0.237196  \n",
      "std               0.711123             0.141650  \n",
      "min               1.000000             0.166667  \n",
      "25%               4.000000             0.200000  \n",
      "50%               4.000000             0.200000  \n",
      "75%               4.000000             0.200000  \n",
      "max               6.000000             1.000000  \n",
      "\n",
      "\n",
      "ml1m\n"
     ]
    },
    {
     "data": {
      "application/vnd.jupyter.widget-view+json": {
       "model_id": "4133178c8a734d02a22d75b96e03e06f",
       "version_major": 2,
       "version_minor": 0
      },
      "text/plain": [
       "  0%|          | 0/6040 [00:00<?, ?it/s]"
      ]
     },
     "metadata": {},
     "output_type": "display_data"
    },
    {
     "data": {
      "application/vnd.jupyter.widget-view+json": {
       "model_id": "16be8f3a741e4d13b2cfa3bc411302f5",
       "version_major": 2,
       "version_minor": 0
      },
      "text/plain": [
       "  0%|          | 0/6040 [00:00<?, ?it/s]"
      ]
     },
     "metadata": {},
     "output_type": "display_data"
    },
    {
     "name": "stdout",
     "output_type": "stream",
     "text": [
      "              user  num_ratings  unique_days  mean_interval_days  \\\n",
      "count  6040.000000  6040.000000  6040.000000         6040.000000   \n",
      "mean   3020.500000   165.498510     3.773013            0.598515   \n",
      "std    1743.742145   192.543909     9.773912            1.978140   \n",
      "min       1.000000    18.000000     1.000000            0.000000   \n",
      "25%    1510.750000    44.000000     1.000000            0.000000   \n",
      "50%    3020.500000    96.000000     1.000000            0.000000   \n",
      "75%    4530.250000   207.250000     3.000000            0.140000   \n",
      "max    6040.000000  2277.000000   263.000000           42.520000   \n",
      "\n",
      "       mode_interval_days  mode_interval_count  unique_rating_ratio  \n",
      "count              6040.0          6040.000000          6040.000000  \n",
      "mean                  0.0           162.072517             0.027843  \n",
      "std                   0.0           189.005208             0.031803  \n",
      "min                   0.0            15.000000             0.000864  \n",
      "25%                   0.0            43.000000             0.009662  \n",
      "50%                   0.0            93.000000             0.019608  \n",
      "75%                   0.0           204.000000             0.035714  \n",
      "max                   0.0          2248.000000             0.535714  \n",
      "\n",
      "\n",
      "steam\n"
     ]
    },
    {
     "data": {
      "application/vnd.jupyter.widget-view+json": {
       "model_id": "787b2195dfb541dbae609b1f306da74b",
       "version_major": 2,
       "version_minor": 0
      },
      "text/plain": [
       "  0%|          | 0/281460 [00:00<?, ?it/s]"
      ]
     },
     "metadata": {},
     "output_type": "display_data"
    },
    {
     "data": {
      "application/vnd.jupyter.widget-view+json": {
       "model_id": "90411ea3433446f68f93fc6c9ec198ae",
       "version_major": 2,
       "version_minor": 0
      },
      "text/plain": [
       "  0%|          | 0/281460 [00:00<?, ?it/s]"
      ]
     },
     "metadata": {},
     "output_type": "display_data"
    },
    {
     "name": "stdout",
     "output_type": "stream",
     "text": [
      "         num_ratings    unique_days  mean_interval_days  mode_interval_days  \\\n",
      "count  281460.000000  281460.000000       281460.000000       281460.000000   \n",
      "mean       12.631546      10.378278          130.379019           14.661277   \n",
      "std        22.722047      16.605294           95.487507           32.698855   \n",
      "min         5.000000       1.000000            0.000000            0.000000   \n",
      "25%         6.000000       5.000000           59.170000            0.000000   \n",
      "50%         8.000000       7.000000          109.800000            1.000000   \n",
      "75%        12.000000      10.000000          180.500000           14.000000   \n",
      "max      1535.000000     873.000000          648.250000          842.000000   \n",
      "\n",
      "       mode_interval_count  unique_rating_ratio  \n",
      "count        281460.000000        281460.000000  \n",
      "mean              2.930004             0.862830  \n",
      "std               8.503358             0.204902  \n",
      "min               1.000000             0.007353  \n",
      "25%               1.000000             0.800000  \n",
      "50%               1.000000             1.000000  \n",
      "75%               2.000000             1.000000  \n",
      "max             869.000000             1.000000  \n",
      "\n",
      "\n",
      "video_2014\n"
     ]
    },
    {
     "data": {
      "application/vnd.jupyter.widget-view+json": {
       "model_id": "e0d0c18c736e4026a663e40ea14f28e9",
       "version_major": 2,
       "version_minor": 0
      },
      "text/plain": [
       "  0%|          | 0/24303 [00:00<?, ?it/s]"
      ]
     },
     "metadata": {},
     "output_type": "display_data"
    },
    {
     "data": {
      "application/vnd.jupyter.widget-view+json": {
       "model_id": "79973e1d8ea340cb8d10c12903e2737e",
       "version_major": 2,
       "version_minor": 0
      },
      "text/plain": [
       "  0%|          | 0/24303 [00:00<?, ?it/s]"
      ]
     },
     "metadata": {},
     "output_type": "display_data"
    },
    {
     "name": "stdout",
     "output_type": "stream",
     "text": [
      "        num_ratings   unique_days  mean_interval_days  mode_interval_days  \\\n",
      "count  24303.000000  24303.000000        24303.000000        24303.000000   \n",
      "mean       9.537094      6.581286          141.134365            8.987368   \n",
      "std       12.789697      9.497773          162.811280           32.978317   \n",
      "min        5.000000      1.000000            0.000000            0.000000   \n",
      "25%        5.000000      3.000000           29.430000            0.000000   \n",
      "50%        7.000000      5.000000           86.000000            0.000000   \n",
      "75%       10.000000      7.000000          193.000000            1.000000   \n",
      "max      773.000000    511.000000         1279.250000          988.000000   \n",
      "\n",
      "       mode_interval_count  unique_rating_ratio  \n",
      "count         24303.000000         24303.000000  \n",
      "mean              3.263630             0.689185  \n",
      "std               5.649502             0.268763  \n",
      "min               1.000000             0.032258  \n",
      "25%               1.000000             0.500000  \n",
      "50%               2.000000             0.750000  \n",
      "75%               4.000000             0.944444  \n",
      "max             429.000000             1.000000  \n",
      "\n",
      "\n",
      "video_2018\n"
     ]
    },
    {
     "data": {
      "application/vnd.jupyter.widget-view+json": {
       "model_id": "7a4c3502d06c4b6f94dc7e065a1c4d00",
       "version_major": 2,
       "version_minor": 0
      },
      "text/plain": [
       "  0%|          | 0/50677 [00:00<?, ?it/s]"
      ]
     },
     "metadata": {},
     "output_type": "display_data"
    },
    {
     "data": {
      "application/vnd.jupyter.widget-view+json": {
       "model_id": "8fcdab26f5fc45be92e9243dc727b43a",
       "version_major": 2,
       "version_minor": 0
      },
      "text/plain": [
       "  0%|          | 0/50677 [00:00<?, ?it/s]"
      ]
     },
     "metadata": {},
     "output_type": "display_data"
    },
    {
     "name": "stdout",
     "output_type": "stream",
     "text": [
      "        num_ratings   unique_days  mean_interval_days  mode_interval_days  \\\n",
      "count  50677.000000  50677.000000        50677.000000        50677.000000   \n",
      "mean       8.969138      5.316988          155.240220            7.795193   \n",
      "std       10.426619      7.449149          183.327107           34.382366   \n",
      "min        5.000000      1.000000            0.000000            0.000000   \n",
      "25%        5.000000      2.000000           26.540000            0.000000   \n",
      "50%        6.000000      4.000000           96.750000            0.000000   \n",
      "75%        9.000000      6.000000          214.500000            0.000000   \n",
      "max      774.000000    544.000000         1584.750000          947.000000   \n",
      "\n",
      "       mode_interval_count  unique_rating_ratio  \n",
      "count         50677.000000         50677.000000  \n",
      "mean              3.851866             0.603735  \n",
      "std               5.440380             0.285724  \n",
      "min               1.000000             0.012195  \n",
      "25%               1.000000             0.375000  \n",
      "50%               3.000000             0.600000  \n",
      "75%               4.000000             0.833333  \n",
      "max             391.000000             1.000000  \n"
     ]
    }
   ],
   "source": [
    "for name, frame in cored_frames.items():\n",
    "    print(\"\\n\")\n",
    "    print(name)\n",
    "    if name in [\"steam\"]:\n",
    "        interval_stats_out = interval_stats_frame(frame)\n",
    "    else:\n",
    "        interval_stats_out = interval_stats_frame(frame, datetime_units=\"s\")     \n",
    "    pprint(interval_stats_out.describe())"
   ]
  },
  {
   "cell_type": "markdown",
   "metadata": {},
   "source": [
    "# Save For SASRec"
   ]
  },
  {
   "cell_type": "code",
   "execution_count": 96,
   "metadata": {},
   "outputs": [],
   "source": [
    "sasrec_data_path = \"../data\"\n",
    "os.makedirs(sasrec_data_path, exist_ok=True) "
   ]
  },
  {
   "cell_type": "code",
   "execution_count": 97,
   "metadata": {},
   "outputs": [],
   "source": [
    "def write_dataset(frame, dirr, name):\n",
    "    frame.sort_values(by=['user', 'timestamp'], inplace=True)\n",
    "\n",
    "    frame[\"uid\"] = pd.Categorical(frame.user).codes + 1\n",
    "    frame[\"iid\"] = pd.Categorical(frame.item).codes + 1\n",
    "\n",
    "    frame[['uid', 'iid']].to_csv(os.path.join(dirr, name),\n",
    "                                 sep=' ',\n",
    "                                 header=False,\n",
    "                                 index=False)"
   ]
  },
  {
   "cell_type": "code",
   "execution_count": null,
   "metadata": {},
   "outputs": [],
   "source": [
    "for name, frame in cored_frames.items():\n",
    "    print(f\"Writing {name}...\")\n",
    "    write_dataset(frame, sasrec_data_path, name+\".txt\")\n",
    "    print(\"Done!\")"
   ]
  },
  {
   "cell_type": "code",
   "execution_count": 105,
   "metadata": {},
   "outputs": [],
   "source": [
    "def write_rating_dataset(frame, dirr, name):\n",
    "    frame.sort_values(by=['user', 'timestamp'], inplace=True)\n",
    "\n",
    "    frame[\"uid\"] = pd.Categorical(frame.user).codes + 1\n",
    "    frame[\"iid\"] = pd.Categorical(frame.item).codes + 1\n",
    "\n",
    "    frame[['uid', 'iid', 'rating']].to_csv(os.path.join(dirr, name),\n",
    "                                           sep=' ',\n",
    "                                           header=False,\n",
    "                                           index=False)"
   ]
  },
  {
   "cell_type": "code",
   "execution_count": 106,
   "metadata": {},
   "outputs": [],
   "source": [
    "write_rating_dataset(cored_ml1m_frame, sasrec_data_path, \"ml-1m-rating.txt\")"
   ]
  },
  {
   "cell_type": "code",
   "execution_count": null,
   "metadata": {},
   "outputs": [],
   "source": []
  }
 ],
 "metadata": {
  "kernelspec": {
   "display_name": "Python 3 (ipykernel)",
   "language": "python",
   "name": "python3"
  },
  "language_info": {
   "codemirror_mode": {
    "name": "ipython",
    "version": 3
   },
   "file_extension": ".py",
   "mimetype": "text/x-python",
   "name": "python",
   "nbconvert_exporter": "python",
   "pygments_lexer": "ipython3",
   "version": "3.7.5"
  },
  "toc": {
   "base_numbering": 1,
   "nav_menu": {},
   "number_sections": true,
   "sideBar": true,
   "skip_h1_title": false,
   "title_cell": "Table of Contents",
   "title_sidebar": "Contents",
   "toc_cell": false,
   "toc_position": {
    "height": "calc(100% - 180px)",
    "left": "10px",
    "top": "150px",
    "width": "216.771px"
   },
   "toc_section_display": true,
   "toc_window_display": true
  }
 },
 "nbformat": 4,
 "nbformat_minor": 4
}
